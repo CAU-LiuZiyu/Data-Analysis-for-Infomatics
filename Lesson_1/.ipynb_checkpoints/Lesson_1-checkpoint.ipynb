{
 "cells": [
  {
   "cell_type": "markdown",
   "metadata": {},
   "source": [
    "# 第一讲 Python提升探索、Numpy & Pandas"
   ]
  },
  {
   "cell_type": "markdown",
   "metadata": {},
   "source": [
    "## 第一部分 Python提升探索\n",
    "\n",
    "尝试着潜入水中，往大洋的深处扎一个小小的猛子\n",
    "\n",
    "### 1. 数据类型的底层实现\n",
    "\n",
    "#### 1.1 奇怪的列表\n",
    "\n",
    "- 错综复杂的复制"
   ]
  },
  {
   "cell_type": "code",
   "execution_count": 2,
   "metadata": {},
   "outputs": [],
   "source": [
    "list_1 = [1, [22, 33, 44], (5, 6, 7), {'name':'Admond'}]\n",
    "\n",
    "#直接赋值，对象的引用（别名）\n",
    "list_2 = list_1\n",
    "\n",
    "#浅拷贝，拷贝父对象，不会拷贝对象内部的子对象\n",
    "list_3 = list_1.copy()\n",
    "list_4 = list_1[:]\n",
    "list_5 = list(list_1)\n",
    "\n",
    "#深拷贝，copy模块的deepcopy方法，完全拷贝了父对象及其子对象\n",
    "import copy\n",
    "\n",
    "list_6 = copy.deepcopy(list_1)"
   ]
  },
  {
   "cell_type": "markdown",
   "metadata": {},
   "source": [
    "#### 1.2 列表的底层实现\n",
    "\n",
    "**引用数组的概念**\n",
    "\n",
    "列表内的元素可以分散地存储在内存中\n",
    "\n",
    "列表内存储的，实际上是这些**元素的地址！**——地址的存储\n",
    "\n",
    "![列表与引用数组](.\\image\\list.png)"
   ]
  },
  {
   "cell_type": "code",
   "execution_count": 3,
   "metadata": {},
   "outputs": [],
   "source": [
    "list_1 = [1, [22, 33, 44], (5, 6, 7), {'name':'Admond'}]\n",
    "list_2 = list_1.copy()"
   ]
  },
  {
   "cell_type": "markdown",
   "metadata": {},
   "source": [
    "- 新增元素"
   ]
  },
  {
   "cell_type": "code",
   "execution_count": 4,
   "metadata": {},
   "outputs": [
    {
     "name": "stdout",
     "output_type": "stream",
     "text": [
      "list_1:  [1, [22, 33, 44], (5, 6, 7), {'name': 'Admond'}, 100]\n",
      "list_2:  [1, [22, 33, 44], (5, 6, 7), {'name': 'Admond'}, 'n']\n"
     ]
    }
   ],
   "source": [
    "list_1.append(100)\n",
    "list_2.append('n')\n",
    "\n",
    "print('list_1: ', list_1)\n",
    "print('list_2: ', list_2)"
   ]
  },
  {
   "cell_type": "markdown",
   "metadata": {},
   "source": [
    "![如何实现](.\\image\\list_copy_append.png)\n",
    "\n",
    "- 修改元素"
   ]
  },
  {
   "cell_type": "markdown",
   "metadata": {},
   "source": [
    "list_1[0] = 10\n",
    "list_2[0] = 20\n",
    "\n",
    "print('list_1: ', list_1)\n",
    "print('list_2: ', list_2)"
   ]
  },
  {
   "cell_type": "markdown",
   "metadata": {},
   "source": [
    "![修改如何实现](.\\image\\list_copy_change.png)\n",
    "\n",
    "- 对列表型元素进行操作"
   ]
  },
  {
   "cell_type": "code",
   "execution_count": 5,
   "metadata": {},
   "outputs": [
    {
     "name": "stdout",
     "output_type": "stream",
     "text": [
      "list_1:  [1, [22, 33, 55, 66], (5, 6, 7), {'name': 'Admond'}, 100]\n",
      "list_2:  [1, [22, 33, 55, 66], (5, 6, 7), {'name': 'Admond'}, 'n']\n"
     ]
    }
   ],
   "source": [
    "list_1[1].remove(44)\n",
    "list_2[1] += [55, 66]\n",
    "\n",
    "print('list_1: ', list_1)\n",
    "print('list_2: ', list_2)"
   ]
  },
  {
   "cell_type": "markdown",
   "metadata": {},
   "source": [
    "![如何实现](.\\image\\list_copy_change_1.png)\n",
    "\n",
    "- 对元组型元素进行操作"
   ]
  },
  {
   "cell_type": "code",
   "execution_count": 6,
   "metadata": {},
   "outputs": [
    {
     "name": "stdout",
     "output_type": "stream",
     "text": [
      "list_1:  [1, [22, 33, 55, 66], (5, 6, 7), {'name': 'Admond'}, 100]\n",
      "list_2:  [1, [22, 33, 55, 66], (5, 6, 7, 8, 9), {'name': 'Admond'}, 'n']\n"
     ]
    }
   ],
   "source": [
    "list_2[2] += (8, 9)\n",
    "\n",
    "print('list_1: ', list_1)\n",
    "print('list_2: ', list_2)"
   ]
  },
  {
   "cell_type": "markdown",
   "metadata": {},
   "source": [
    "![如何实现](.\\image\\list_copy_change_2.png)\n",
    "\n",
    "元组是不可变的，一旦进行了拼接操作，会形成新的元组\n",
    "\n",
    "- 对字典型元素进行操作"
   ]
  },
  {
   "cell_type": "code",
   "execution_count": 7,
   "metadata": {},
   "outputs": [
    {
     "name": "stdout",
     "output_type": "stream",
     "text": [
      "list_1:  [1, [22, 33, 55, 66], (5, 6, 7), {'name': 'Admond', 'age': 18}, 100]\n",
      "list_2:  [1, [22, 33, 55, 66], (5, 6, 7, 8, 9), {'name': 'Admond', 'age': 18}, 'n']\n"
     ]
    }
   ],
   "source": [
    "list_1[-2]['age'] = 18\n",
    "\n",
    "print('list_1: ', list_1)\n",
    "print('list_2: ', list_2)"
   ]
  },
  {
   "cell_type": "markdown",
   "metadata": {},
   "source": [
    "![如何实现](.\\image\\list_copy_change_3.png)\n",
    "\n",
    "- **引入深拷贝**\n",
    "\n",
    "深拷贝将所有层级的相关元素全部复制，完全分开，泾渭分明，避免了上述问题"
   ]
  },
  {
   "cell_type": "code",
   "execution_count": 8,
   "metadata": {},
   "outputs": [
    {
     "name": "stdout",
     "output_type": "stream",
     "text": [
      "list_1:  [1, [22, 33, 44], (5, 6, 7), {'name': 'Admond', 'age': 18}]\n",
      "list_2:  [1, [22, 33, 44, 55], (5, 6, 7), {'name': 'Admond'}]\n"
     ]
    }
   ],
   "source": [
    "import copy\n",
    "\n",
    "list_1 = [1, [22, 33, 44], (5, 6, 7), {'name':'Admond'}]\n",
    "list_2 = copy.deepcopy(list_1)\n",
    "list_1[-1]['age'] = 18\n",
    "list_2[1].append(55)\n",
    "\n",
    "print('list_1: ', list_1)\n",
    "print('list_2: ', list_2)"
   ]
  },
  {
   "cell_type": "markdown",
   "metadata": {},
   "source": [
    "#### 1.2 神秘的字典\n",
    "\n",
    "- 快速的查找"
   ]
  },
  {
   "cell_type": "code",
   "execution_count": 8,
   "metadata": {},
   "outputs": [
    {
     "name": "stdout",
     "output_type": "stream",
     "text": [
      "查找1000个元素，在ls_1列表中的有500个，共用时30.31秒\n"
     ]
    }
   ],
   "source": [
    "import time\n",
    "import random\n",
    "\n",
    "ls_1 = list(range(1000000))\n",
    "random.shuffle(ls_1)\n",
    "ls_2 = list(range(500)) + [-10] * 500\n",
    "\n",
    "start = time.time()\n",
    "count = 0\n",
    "for n in ls_2:\n",
    "    if n in ls_1:\n",
    "        count += 1\n",
    "end = time.time()\n",
    "print('查找{}个元素，在ls_1列表中的有{}个，共用时{}秒'.format(len(ls_2), count, round((end-start), 2)))"
   ]
  },
  {
   "cell_type": "code",
   "execution_count": null,
   "metadata": {},
   "outputs": [],
   "source": [
    "import time\n",
    "\n",
    "d = {i: i for i in range(1000000)}\n",
    "shuffle(d)\n",
    "ls_2 = list(range(500)) + [-10] * 500\n",
    "\n",
    "start = time.time()\n",
    "count = 0\n",
    "for n in ls_2:\n",
    "    try:\n",
    "        d[n]\n",
    "    except:\n",
    "        pass\n",
    "    else:\n",
    "        count += 1\n",
    "end = time.time()\n",
    "print('查找{}个元素，在ls_1列表中的有{}个，共用时{}秒'.format(len(ls_2), count, round((end-start), 2)))"
   ]
  },
  {
   "cell_type": "markdown",
   "metadata": {},
   "source": [
    "- 字典的底层实现\n",
    "\n",
    "通过稀疏数组来实现值的存储与访问\n",
    "\n",
    "- **字典的创建过程**\n",
    "\n",
    "    > 第一步：创建一个散列表（稀疏数组 N >> n）"
   ]
  },
  {
   "cell_type": "code",
   "execution_count": null,
   "metadata": {},
   "outputs": [],
   "source": [
    "d = {}"
   ]
  },
  {
   "cell_type": "markdown",
   "metadata": {},
   "source": [
    "    > 第二步：通过hash()计算键的散列值"
   ]
  },
  {
   "cell_type": "code",
   "execution_count": null,
   "metadata": {},
   "outputs": [],
   "source": [
    "print(hash('python'))\n",
    "print(hash(1024))\n",
    "print(hash(1.2))"
   ]
  },
  {
   "cell_type": "code",
   "execution_count": null,
   "metadata": {},
   "outputs": [],
   "source": [
    "d['age'] = 18   #增加键值对的操作，首先会计算键的散列值hash('age')\n",
    "print(hash('age'))"
   ]
  },
  {
   "cell_type": "markdown",
   "metadata": {},
   "source": [
    "    > 第三步：根据计算的散列值确定在散列表中的位置\n",
    "    \n",
    "    极个别时候，散列值会发生冲突，而内部有相应的解决冲突的办法\n",
    "    \n",
    "    > 第四步：在该位置上存入值\n",
    "    \n",
    "![字典的底层实现](.\\image\\dict.png)\n",
    "    \n",
    "- **键值对的访问过程**"
   ]
  },
  {
   "cell_type": "code",
   "execution_count": null,
   "metadata": {},
   "outputs": [],
   "source": [
    "d['age']"
   ]
  },
  {
   "cell_type": "markdown",
   "metadata": {},
   "source": [
    "    > 第一步：计算要访问键的散列值\n",
    "    \n",
    "    > 第二步：根据计算的散列值，通过一定的规则，确定其在散列表中的位置\n",
    "    \n",
    "    > 第三步：读取该位置上存储的值\n",
    "    \n",
    "        如果存在，则返回该值\n",
    "        \n",
    "        如果不存在，则报错KeyError\n",
    "        \n",
    "- **小结**\n",
    "\n",
    "**（1）字典数据类型，通过空间换时间，实现了快速的数据查找**\n",
    "\n",
    "但同时空间利用效率低下\n",
    "\n",
    "**（2）因为散列值对应位置的顺序与键在字典中显式的顺序可能不同，因此表现出来字典是无序的**\n",
    "\n",
    "N >> n\n",
    "如果N == n， 会产生很多位置冲突\n",
    "\n",
    "#### 1.3 紧凑的字符串\n",
    "\n",
    "**通过紧凑数组来实现字符串的存储**\n",
    "\n",
    "![字符串实现](.\\image\\str.png)\n",
    "\n",
    "数据在内存中是连续存放的，效率更高，节省空间\n",
    "\n",
    "为什么列表采用引用数组，而字符串采用紧凑数组？\n",
    "\n",
    "#### 1.4 是否可变\n",
    "\n",
    "- **不可变类型：数字、字符串、元组**\n",
    "\n",
    "    在生命周期中保持内容不变。换言之，改变了值就不是它自己了（内存中的id变了），不可变对象的+=操作，实际上创建了一个新的对象"
   ]
  },
  {
   "cell_type": "code",
   "execution_count": null,
   "metadata": {},
   "outputs": [],
   "source": [
    "x = 1\n",
    "y = 'Python'\n",
    "\n",
    "print('x id:', id(x))\n",
    "print('y id:', id(y))\n",
    "\n",
    "'''\n",
    "x += 2\n",
    "y += '3.8'\n",
    "\n",
    "print('x id:', id(x))\n",
    "print('y id:', id(y))\n",
    "'''\n",
    "\n",
    "x = x + 5\n",
    "y = y + 'beta'\n",
    "\n",
    "print('x id:', id(x))\n",
    "print('y id:', id(y))"
   ]
  },
  {
   "cell_type": "markdown",
   "metadata": {},
   "source": [
    "元组也并不是不可变的"
   ]
  },
  {
   "cell_type": "code",
   "execution_count": null,
   "metadata": {},
   "outputs": [],
   "source": [
    "t = (1, [2])\n",
    "print('t id:', id(t))\n",
    "\n",
    "t[1].append(3)\n",
    "print(t)\n",
    "print('t id:', id(t))"
   ]
  },
  {
   "cell_type": "markdown",
   "metadata": {},
   "source": [
    "- **可变类型：列表、字典、集合**\n",
    "\n",
    "    id 保持不变，但是里面的内容可以变。可变对象的 += 操作实际在元对象的基础上就地修改。"
   ]
  },
  {
   "cell_type": "code",
   "execution_count": null,
   "metadata": {},
   "outputs": [],
   "source": [
    "ls = [1, 2, 3]\n",
    "d = {'name': 'Sarah', 'age': 18}\n",
    "\n",
    "print('ls id: ', id(ls))\n",
    "print('d id: ', id(d))\n",
    "\n",
    "ls += [4, 5]\n",
    "d_2 = {'sex': 'Female'}\n",
    "d.update(d_2)\n",
    "\n",
    "print('ls id: ', id(ls))\n",
    "print('d id: ', id(d))"
   ]
  },
  {
   "cell_type": "markdown",
   "metadata": {},
   "source": [
    "#### 1.5 列表操作的几个小例子\n",
    "\n",
    "【例1】删除列表内的特定元素\n",
    "\n",
    "方法1：存在运算删除法\n",
    "\n",
    "缺点：每次存在运算，都要从头对列表进行遍历、查找，效率低"
   ]
  },
  {
   "cell_type": "code",
   "execution_count": null,
   "metadata": {},
   "outputs": [],
   "source": [
    "alist = ['d', 'd', 'd', 2, 2, 'd', 'd', 4]\n",
    "s = 'd'\n",
    "while True:\n",
    "    if s in alist:\n",
    "        alist.remove(s)  #remove(s)删除列表中第一次出现的该元素\n",
    "    else:\n",
    "        break\n",
    "print(alist)"
   ]
  },
  {
   "cell_type": "markdown",
   "metadata": {},
   "source": [
    "方法2：一次性遍历元素执行删除"
   ]
  },
  {
   "cell_type": "code",
   "execution_count": null,
   "metadata": {},
   "outputs": [],
   "source": [
    "alist = ['d', 'd', 'd', 2, 2, 'd', 'd', 4]\n",
    "for s in alist:\n",
    "    if s == 'd':\n",
    "        alist.remove(s)\n",
    "print(alist)"
   ]
  },
  {
   "cell_type": "markdown",
   "metadata": {},
   "source": [
    "解决方法：使用负向索引"
   ]
  },
  {
   "cell_type": "code",
   "execution_count": null,
   "metadata": {},
   "outputs": [],
   "source": [
    "alist = ['d', 'd', 'd', 2, 2, 'd', 'd', 4]\n",
    "for i in range(-len(alist), 0):\n",
    "    if alist[i] == 'd':\n",
    "        alist.remove(alist[i])  #remove(s)删除列表中第一次出现的该元素\n",
    "print(alist)"
   ]
  },
  {
   "cell_type": "markdown",
   "metadata": {},
   "source": [
    "【例2】多维列表的创建"
   ]
  },
  {
   "cell_type": "code",
   "execution_count": null,
   "metadata": {},
   "outputs": [],
   "source": [
    "ls = [[0]*10]*5\n",
    "ls"
   ]
  },
  {
   "cell_type": "code",
   "execution_count": null,
   "metadata": {},
   "outputs": [],
   "source": [
    "ls[0][0] = 1\n",
    "ls"
   ]
  },
  {
   "cell_type": "markdown",
   "metadata": {},
   "source": [
    "### 2. 更加简洁的语法\n",
    "\n",
    "#### 2.1 解析语法"
   ]
  },
  {
   "cell_type": "code",
   "execution_count": null,
   "metadata": {},
   "outputs": [],
   "source": [
    "ls = [[0]*10]*5\n",
    "ls"
   ]
  },
  {
   "cell_type": "code",
   "execution_count": null,
   "metadata": {},
   "outputs": [],
   "source": [
    "ls = [[0]*10 for i in range(5)]\n",
    "ls"
   ]
  },
  {
   "cell_type": "code",
   "execution_count": null,
   "metadata": {},
   "outputs": [],
   "source": [
    "ls[0][0] = 1\n",
    "ls"
   ]
  },
  {
   "cell_type": "markdown",
   "metadata": {},
   "source": [
    "- 解析语法的基本结构——以列表解析为例（也称为列表推导、列表生成式等）\n",
    "\n",
    "[**expression** for value in **iterable** if condition]\n",
    "\n",
    "- 三要素：表达式、可迭代对象、if条件（可选）\n",
    "\n",
    "**执行过程**\n",
    "\n",
    "    > 第一步，从可迭代对象中拿出一个元素\n",
    "    \n",
    "    > 第二步，通过if条件（如果有），对元素进行筛选\n",
    "        \n",
    "        若通过筛选，则把元素传递给表达式\n",
    "        \n",
    "        若未通过，则进入下一次迭代\n",
    "      \n",
    "    > 第三步，将传递给表达式的元素，代入表达式处理，产生结果\n",
    "    \n",
    "    > 第四步，将第三步产生的结果作为列表的一个元素进行存储\n",
    "    \n",
    "    > 第五步，重复一至四步，直到迭代结束，返回新创建的列表"
   ]
  },
  {
   "cell_type": "code",
   "execution_count": null,
   "metadata": {},
   "outputs": [],
   "source": [
    "#等价于如下代码\n",
    "result = []\n",
    "for value in iteralbe:\n",
    "    if condition:\n",
    "        result.append(expression)"
   ]
  },
  {
   "cell_type": "markdown",
   "metadata": {},
   "source": [
    "【例】求20以内奇数的平方"
   ]
  },
  {
   "cell_type": "code",
   "execution_count": null,
   "metadata": {},
   "outputs": [],
   "source": [
    "square = []\n",
    "for i in range(1, 21):\n",
    "    if i%2 == 1:\n",
    "        square.append(i**2)\n",
    "print(square)"
   ]
  },
  {
   "cell_type": "code",
   "execution_count": null,
   "metadata": {},
   "outputs": [],
   "source": [
    "squares = [i**2 for i in range(1, 21) if i%2 == 1]\n",
    "print(square)"
   ]
  },
  {
   "cell_type": "markdown",
   "metadata": {},
   "source": [
    "**支持多变量和嵌套循环**"
   ]
  },
  {
   "cell_type": "code",
   "execution_count": null,
   "metadata": {},
   "outputs": [],
   "source": [
    "x = [1, 2, 3]\n",
    "y = [4, 5, 6]\n",
    "\n",
    "results = [i*j for i, j in zip(x, y)]\n",
    "results"
   ]
  },
  {
   "cell_type": "code",
   "execution_count": null,
   "metadata": {},
   "outputs": [],
   "source": [
    "colors = ['black', 'white']\n",
    "sizes = ['s', 'm', 'l']\n",
    "tshirts = ['{} {}'.format(color, size) for color in colors for size in sizes]\n",
    "tshirts"
   ]
  },
  {
   "cell_type": "markdown",
   "metadata": {},
   "source": [
    "#### 2.2 其他解析语法的例子\n",
    "\n",
    "- 解析语法构造字典（字典生成式）"
   ]
  },
  {
   "cell_type": "code",
   "execution_count": null,
   "metadata": {},
   "outputs": [],
   "source": [
    "squares = {i : i**2 for i in range(10)}\n",
    "for k, v in squares.items():\n",
    "    print(k, ': ', v)"
   ]
  },
  {
   "cell_type": "markdown",
   "metadata": {},
   "source": [
    "- 解析语法构造集合（集合生成式）"
   ]
  },
  {
   "cell_type": "code",
   "execution_count": null,
   "metadata": {},
   "outputs": [],
   "source": [
    "squares = {i**2 for i in range(10)}\n",
    "squares"
   ]
  },
  {
   "cell_type": "markdown",
   "metadata": {},
   "source": [
    "- 生成器表达式"
   ]
  },
  {
   "cell_type": "code",
   "execution_count": null,
   "metadata": {},
   "outputs": [],
   "source": [
    "squares = (i**2 for i in range(10))\n",
    "squares"
   ]
  },
  {
   "cell_type": "code",
   "execution_count": null,
   "metadata": {},
   "outputs": [],
   "source": [
    "colors = ['black', 'white']\n",
    "sizes = ['s', 'm', 'l']\n",
    "tshirts = ('{} {}'.format(color, size) for color in colors for size in sizes)\n",
    "for tshirt in tshirts:\n",
    "    print(tshirt)"
   ]
  },
  {
   "cell_type": "markdown",
   "metadata": {},
   "source": [
    "#### 2.3 条件表达式\n",
    "\n",
    "expr1 if condition else expr2\n",
    "\n",
    "【例】将变量n的绝对值赋给变量x"
   ]
  },
  {
   "cell_type": "code",
   "execution_count": null,
   "metadata": {},
   "outputs": [],
   "source": [
    "n = 10\n",
    "if n >= 0:\n",
    "    x = n\n",
    "else:\n",
    "    x = -n\n",
    "x"
   ]
  },
  {
   "cell_type": "code",
   "execution_count": null,
   "metadata": {},
   "outputs": [],
   "source": [
    "n = -10\n",
    "x = n if n>=0 else -n\n",
    "x"
   ]
  },
  {
   "cell_type": "markdown",
   "metadata": {},
   "source": [
    "**条件表达式和解析语法简单实用，运行速度相对快一些，相信大家慢慢会爱上它们**\n",
    "\n",
    "### 3. 三大神器\n",
    "\n",
    "#### 3.1 生成器"
   ]
  },
  {
   "cell_type": "code",
   "execution_count": null,
   "metadata": {},
   "outputs": [],
   "source": [
    "ls = [i**2 for i in range(1, 1000001)]"
   ]
  },
  {
   "cell_type": "code",
   "execution_count": null,
   "metadata": {},
   "outputs": [],
   "source": [
    "for i in ls:\n",
    "    pass"
   ]
  },
  {
   "cell_type": "markdown",
   "metadata": {},
   "source": [
    "缺点：占用大量内存\n",
    "\n",
    "**生成器**\n",
    "\n",
    "（1）采用惰性计算的方式\n",
    "\n",
    "（2）无需一次性存储海量数据\n",
    "\n",
    "（3）一边执行一边计算，只计算每次需要的值\n",
    "\n",
    "（4）实际上一直在执行next()操作，直到无值可取\n",
    "\n",
    "- **生成器表达式**\n",
    "\n",
    "海量数据，不需存储"
   ]
  },
  {
   "cell_type": "code",
   "execution_count": null,
   "metadata": {},
   "outputs": [],
   "source": [
    "squares = (i**2 for i in range(1000000))"
   ]
  },
  {
   "cell_type": "code",
   "execution_count": null,
   "metadata": {},
   "outputs": [],
   "source": [
    "for i in squares:\n",
    "    pass"
   ]
  },
  {
   "cell_type": "code",
   "execution_count": null,
   "metadata": {},
   "outputs": [],
   "source": [
    "#求0-100的和\n",
    "\n",
    "sum(i for i in range(101))"
   ]
  },
  {
   "cell_type": "markdown",
   "metadata": {},
   "source": [
    "- **生成器函数——yield**"
   ]
  },
  {
   "cell_type": "code",
   "execution_count": null,
   "metadata": {},
   "outputs": [],
   "source": [
    "#生产斐波那契数列\n",
    "def fib(max):\n",
    "    ls = []\n",
    "    n, a, b = 0, 1, 1\n",
    "    while n < max:\n",
    "        ls.append(a)\n",
    "        a, b = b, a + b\n",
    "        n = n+1\n",
    "    return ls\n",
    "\n",
    "fib(10)"
   ]
  },
  {
   "cell_type": "code",
   "execution_count": null,
   "metadata": {},
   "outputs": [],
   "source": [
    "#依次输出斐波那契数列\n",
    "def fib(max):\n",
    "    n, a, b = 0, 1, 1\n",
    "    while n < max:\n",
    "        print(a)\n",
    "        a, b = b, a + b\n",
    "        n + n +1\n",
    "\n",
    "fib(10)"
   ]
  },
  {
   "cell_type": "markdown",
   "metadata": {},
   "source": [
    "构造生成器函数，在每次调用next()的时候执行，遇到yield语句返回，再次执行时从上次返回yield语句处继续执行"
   ]
  },
  {
   "cell_type": "code",
   "execution_count": null,
   "metadata": {},
   "outputs": [],
   "source": [
    "def fib(max):\n",
    "    n, a, b = 0, 1, 1\n",
    "    while n < max:\n",
    "        yield a\n",
    "        a, b = b, a + b\n",
    "        n + n +1\n",
    "\n",
    "fib(10)"
   ]
  },
  {
   "cell_type": "code",
   "execution_count": null,
   "metadata": {},
   "outputs": [],
   "source": [
    "for i in fib(10):\n",
    "    print(i)"
   ]
  },
  {
   "cell_type": "markdown",
   "metadata": {},
   "source": [
    "#### 3.2 迭代器\n",
    "\n",
    "- **可迭代对象**\n",
    "\n",
    "可直接作用于for循环的对象统称为可迭代对象：iterable\n",
    "\n",
    "**（1）列表、元组、字符串、字典、集合、文件**\n",
    "\n",
    "可以使用isinstance()判断一个对象是否可迭代（iterable）\n"
   ]
  },
  {
   "cell_type": "code",
   "execution_count": null,
   "metadata": {},
   "outputs": [],
   "source": [
    "from collections import Iterable\n",
    "\n",
    "isinstance([1, 2, 3], Iterable)"
   ]
  },
  {
   "cell_type": "code",
   "execution_count": null,
   "metadata": {},
   "outputs": [],
   "source": [
    "isinstance({'name':'Joe'}, Iterable)"
   ]
  },
  {
   "cell_type": "code",
   "execution_count": null,
   "metadata": {},
   "outputs": [],
   "source": [
    "isinstance('Python', Iterable)"
   ]
  },
  {
   "cell_type": "markdown",
   "metadata": {},
   "source": [
    "**（2）生成器**"
   ]
  },
  {
   "cell_type": "code",
   "execution_count": null,
   "metadata": {},
   "outputs": [],
   "source": [
    "squares = {i**2 for i in range(5)}\n",
    "isinstance(squares, Iterable)"
   ]
  },
  {
   "cell_type": "markdown",
   "metadata": {},
   "source": [
    "生成器不但可以用于for循环，还可以被next()调用"
   ]
  },
  {
   "cell_type": "code",
   "execution_count": null,
   "metadata": {},
   "outputs": [],
   "source": [
    "print(next(squares))\n",
    "print(next(squares))\n",
    "print(next(squares))\n",
    "print(next(squares))\n",
    "print(next(squares))"
   ]
  },
  {
   "cell_type": "markdown",
   "metadata": {},
   "source": [
    "直到没有数据可取，抛出Stopiteration"
   ]
  },
  {
   "cell_type": "code",
   "execution_count": null,
   "metadata": {},
   "outputs": [],
   "source": [
    "print(next(squares))"
   ]
  },
  {
   "cell_type": "markdown",
   "metadata": {},
   "source": [
    "可以被next()调用，并不断返回下一个值，直至没有数据可取的对象成为**迭代器：Iterator**\n",
    "\n",
    "- **迭代器**\n",
    "\n",
    "**（1）生成器都是迭代器**"
   ]
  },
  {
   "cell_type": "code",
   "execution_count": null,
   "metadata": {},
   "outputs": [],
   "source": [
    "from collections import Iterator\n",
    "\n",
    "squares = {i**2 for i in range(5)}\n",
    "isinstance(squares, Iterator)"
   ]
  },
  {
   "cell_type": "markdown",
   "metadata": {},
   "source": [
    "**（2）列表、元组、字符串、字典、集合不是迭代器**"
   ]
  },
  {
   "cell_type": "code",
   "execution_count": null,
   "metadata": {},
   "outputs": [],
   "source": [
    "isinstance([1, 2, 3], Iterator)"
   ]
  },
  {
   "cell_type": "markdown",
   "metadata": {},
   "source": [
    "可以通过*iter(iterable)*创建迭代器"
   ]
  },
  {
   "cell_type": "code",
   "execution_count": null,
   "metadata": {},
   "outputs": [],
   "source": [
    "isinstance(iter([1, 2, 3]), Iterator)"
   ]
  },
  {
   "cell_type": "markdown",
   "metadata": {},
   "source": [
    "for iterm in Iterable  等价于：\n",
    "    \n",
    "    先通过iter()函数获取Iterable的迭代器Iterator\n",
    "    \n",
    "    然后对获取到的迭代器不断调用next()方法来获取下一个值并将其赋值给iterm\n",
    "    \n",
    "    当遇到StopIteration的异常后循环结束\n",
    "    \n",
    "**（3）zip enumarate等 itertools里的函数是迭代器**"
   ]
  },
  {
   "cell_type": "code",
   "execution_count": null,
   "metadata": {},
   "outputs": [],
   "source": [
    "x = [1, 2]\n",
    "y = ['a', 'b']\n",
    "zip(x, y)"
   ]
  },
  {
   "cell_type": "code",
   "execution_count": null,
   "metadata": {},
   "outputs": [],
   "source": [
    "for i in zip(x, y):\n",
    "    print(i)\n",
    "    \n",
    "isinstance(zip(x, y), Iterator)"
   ]
  },
  {
   "cell_type": "code",
   "execution_count": null,
   "metadata": {},
   "outputs": [],
   "source": [
    "numbers = [1, 2, 3, 4, 5]\n",
    "enumerate(numbers)"
   ]
  },
  {
   "cell_type": "code",
   "execution_count": null,
   "metadata": {},
   "outputs": [],
   "source": [
    "for i in enumerate(numbers):\n",
    "    print(i)\n",
    "    \n",
    "isinstance(enumerate(numbers))"
   ]
  },
  {
   "cell_type": "markdown",
   "metadata": {},
   "source": [
    "**（4）文件是迭代器**"
   ]
  },
  {
   "cell_type": "code",
   "execution_count": null,
   "metadata": {},
   "outputs": [],
   "source": [
    "with open('test.txt', 'r', encoding = 'utf-8') as f:\n",
    "    print(isinstance(f, Iterator))"
   ]
  },
  {
   "cell_type": "markdown",
   "metadata": {},
   "source": [
    "**（5）迭代器是可以耗尽的**"
   ]
  },
  {
   "cell_type": "code",
   "execution_count": null,
   "metadata": {},
   "outputs": [],
   "source": [
    "squares = {i**2 for i in range(5)}\n",
    "for square in squares:\n",
    "    print(square)"
   ]
  },
  {
   "cell_type": "code",
   "execution_count": null,
   "metadata": {},
   "outputs": [],
   "source": [
    "for sauqre in squares:\n",
    "    print(square)"
   ]
  },
  {
   "cell_type": "markdown",
   "metadata": {},
   "source": [
    "**（6）range()不是迭代器**"
   ]
  },
  {
   "cell_type": "code",
   "execution_count": null,
   "metadata": {},
   "outputs": [],
   "source": [
    "numbers = range(10)\n",
    "print(isinstance(numbers, Iterable))\n",
    "print(isinstance(numbers, Iterator))"
   ]
  },
  {
   "cell_type": "code",
   "execution_count": null,
   "metadata": {},
   "outputs": [],
   "source": [
    "print(len(numbers))    #有长度，而迭代器无长度\n",
    "print(numbers[0])      #可索引，而迭代器不可索引\n",
    "print(9 in numbers)    #可存在计算，而迭代器不可存在计算\n",
    "next(numbers)          #不可被next()调用，而迭代器可以被next()调用"
   ]
  },
  {
   "cell_type": "code",
   "execution_count": null,
   "metadata": {},
   "outputs": [],
   "source": [
    "for number in numbers:\n",
    "    print(number)"
   ]
  },
  {
   "cell_type": "markdown",
   "metadata": {},
   "source": [
    "for number in numbers:\n",
    "    print(number)"
   ]
  },
  {
   "cell_type": "markdown",
   "metadata": {},
   "source": [
    "range()不会被耗尽，可以称其为一个**懒序列（惰性序列)**\n",
    "\n",
    "    它是一种序列\n",
    "    \n",
    "    但并不包含任何内存中的内容\n",
    "    \n",
    "    而是通过计算来回答问题\n",
    "    \n",
    "#### 3.3 装饰器\n",
    "\n",
    "- **为什么要有装饰器？**\n",
    "\n",
    "（1）需要对已开发上线的程序添加某些功能\n",
    "\n",
    "（2）不能对程序中函数的源代码进行修改\n",
    "\n",
    "（3）不能改变程序中函数的调用方式\n",
    "\n",
    "比如说，**要统计每个函数运行的时间**，这个时候可以用装饰器"
   ]
  },
  {
   "cell_type": "code",
   "execution_count": null,
   "metadata": {},
   "outputs": [],
   "source": [
    "def f1():\n",
    "    pass\n",
    "\n",
    "\n",
    "def f2():\n",
    "    pass\n",
    "\n",
    "\n",
    "def f3():\n",
    "    pass\n",
    "\n",
    "\n",
    "f1()\n",
    "f2()\n",
    "f3()"
   ]
  },
  {
   "cell_type": "markdown",
   "metadata": {},
   "source": [
    "- **函数对象**\n",
    "\n",
    "函数是Python中的第一类对象\n",
    "\n",
    "（1）可以把函数赋值给变量\n",
    "\n",
    "（2）对该变量进行调用，可实现原函数的功能\n",
    "\n",
    "（3）可以把函数当作参数进行传递、返回"
   ]
  },
  {
   "cell_type": "code",
   "execution_count": null,
   "metadata": {},
   "outputs": [],
   "source": [
    "def square(x):\n",
    "    return x**2\n",
    "\n",
    "print(type(square))     #square 是 function 类的一个实例"
   ]
  },
  {
   "cell_type": "code",
   "execution_count": null,
   "metadata": {},
   "outputs": [],
   "source": [
    "pow_2 = square\n",
    "print(pow_2(5))\n",
    "print(square(5))"
   ]
  },
  {
   "cell_type": "markdown",
   "metadata": {},
   "source": [
    "- **高阶函数**\n",
    "\n",
    "（1）接收函数作为参数\n",
    "\n",
    "（2）或者返回一个函数\n",
    "\n",
    "**满足上述条件之一的函数称之为高阶函数**"
   ]
  },
  {
   "cell_type": "code",
   "execution_count": null,
   "metadata": {},
   "outputs": [],
   "source": [
    "def square(x):\n",
    "    return x**2\n",
    "\n",
    "def pow_2(fun):\n",
    "    return fun\n",
    "\n",
    "f = pow_2(square)\n",
    "f(8)"
   ]
  },
  {
   "cell_type": "markdown",
   "metadata": {},
   "source": [
    "- **嵌套函数**\n",
    "\n",
    "**在函数内部定义一个函数**"
   ]
  },
  {
   "cell_type": "code",
   "execution_count": null,
   "metadata": {},
   "outputs": [],
   "source": [
    "def outer():\n",
    "    print('outer is running')\n",
    "    \n",
    "    def inner():\n",
    "        print('inner is running')\n",
    "        \n",
    "    inner()\n",
    "    \n",
    "    \n",
    "outer()"
   ]
  },
  {
   "cell_type": "markdown",
   "metadata": {},
   "source": [
    "- **闭包**"
   ]
  },
  {
   "cell_type": "code",
   "execution_count": null,
   "metadata": {},
   "outputs": [],
   "source": [
    "def outer():\n",
    "    x = 1\n",
    "    z = 10\n",
    "    \n",
    "    def inner():\n",
    "        y = x + 100\n",
    "        return y, z\n",
    "    \n",
    "    return inner\n",
    "\n",
    "\n",
    "f = outer()\n",
    "print(f)"
   ]
  },
  {
   "cell_type": "code",
   "execution_count": null,
   "metadata": {},
   "outputs": [],
   "source": [
    "print(f.__closure__)  # __closure__属性中包含了来自外部函数的信息\n",
    "for i in f.__closure__:\n",
    "    print(i.cell__contents)"
   ]
  },
  {
   "cell_type": "code",
   "execution_count": null,
   "metadata": {},
   "outputs": [],
   "source": [
    "res = f()\n",
    "print(res)"
   ]
  },
  {
   "cell_type": "markdown",
   "metadata": {},
   "source": [
    "**闭包：延伸了作用域的函数**\n",
    "\n",
    "如果一个函数定义在另一个函数的作用域内，并且引用了外层函数的变量，则该函数称为闭包\n",
    "\n",
    "闭包是由函数及其相关的引用环境组合而成的实体（闭包 = 函数 + 引用环境）\n",
    "\n",
    "- 一旦在内层函数重新定义了相同名字的变量，则变量称为局部变量"
   ]
  },
  {
   "cell_type": "code",
   "execution_count": null,
   "metadata": {},
   "outputs": [],
   "source": [
    "def outer():\n",
    "    x = 1\n",
    "    \n",
    "    def inner():\n",
    "        x = x + 100\n",
    "        return x\n",
    "    \n",
    "    return inner\n",
    "\n",
    "f = outer()\n",
    "f()"
   ]
  },
  {
   "cell_type": "code",
   "execution_count": null,
   "metadata": {},
   "outputs": [],
   "source": [
    "def outer():\n",
    "    x = 1\n",
    "    \n",
    "    def inner():\n",
    "        nonlocal x\n",
    "        x = x + 100\n",
    "        return x\n",
    "    \n",
    "    return inner\n",
    "\n",
    "f = outer()\n",
    "f()"
   ]
  },
  {
   "cell_type": "markdown",
   "metadata": {},
   "source": [
    "- **一个简单的装饰器**\n",
    "\n",
    "**嵌套函数实现**"
   ]
  },
  {
   "cell_type": "code",
   "execution_count": null,
   "metadata": {},
   "outputs": [],
   "source": [
    "import time\n",
    "\n",
    "def timer(func):\n",
    "    \n",
    "    def inner():\n",
    "        print('inner run')\n",
    "        start = time.time()\n",
    "        func()\n",
    "        end = time.time()\n",
    "        print('{}函数运行用时：{:.2f}秒'.format(func.__name__, (end - start)))\n",
    "    \n",
    "    return inner\n",
    "\n",
    "\n",
    "def f1():\n",
    "    print('f1 run')\n",
    "    time.sleep(1)\n",
    "    \n",
    "\n",
    "f1 = timer(f1)    #包含inner()和timer的环境，如传递过来的参数func\n",
    "f1()"
   ]
  },
  {
   "cell_type": "markdown",
   "metadata": {},
   "source": [
    "**语法糖**"
   ]
  },
  {
   "cell_type": "code",
   "execution_count": null,
   "metadata": {},
   "outputs": [],
   "source": [
    "import time\n",
    "\n",
    "def timer(func):\n",
    "    \n",
    "    def inner():\n",
    "        print('inner run')\n",
    "        start = time.time()\n",
    "        func()\n",
    "        end = time.time()\n",
    "        print('{}函数运行用时：{:.2f}秒'.format(func.__name__, (end - start)))\n",
    "    \n",
    "    return inner\n",
    "\n",
    "@timer      #相当于 f1 = timer(f1) 语句\n",
    "def f1():\n",
    "    print('f1 run')\n",
    "    time.sleep(1)\n",
    "    \n",
    "\n",
    "f1()"
   ]
  },
  {
   "cell_type": "markdown",
   "metadata": {},
   "source": [
    "被修饰函数有参数的情况"
   ]
  },
  {
   "cell_type": "code",
   "execution_count": null,
   "metadata": {},
   "outputs": [],
   "source": [
    "import time\n",
    "\n",
    "def timer(func):\n",
    "    \n",
    "    def inner(*args, **kwargs):\n",
    "        print('inner run')\n",
    "        start = time.time()\n",
    "        func(*args, **kwargs)\n",
    "        end = time.time()\n",
    "        print('{}函数运行用时：{:.2f}秒'.format(func.__name__, (end - start)))\n",
    "    \n",
    "    return inner\n",
    "\n",
    "@timer      #相当于 f1 = timer(f1) 语句\n",
    "def f1(n):\n",
    "    print('f1 run')\n",
    "    time.sleep(n)\n",
    "    \n",
    "\n",
    "f1(2)"
   ]
  },
  {
   "cell_type": "markdown",
   "metadata": {},
   "source": [
    "被装饰函数有返回值的情况"
   ]
  },
  {
   "cell_type": "code",
   "execution_count": null,
   "metadata": {},
   "outputs": [],
   "source": [
    "import time\n",
    "\n",
    "def timer(func):\n",
    "    \n",
    "    def inner(*args, **kwargs):\n",
    "        print('inner run')\n",
    "        start = time.time()\n",
    "        res = func(*args, **kwargs)\n",
    "        end = time.time()\n",
    "        print('{}函数运行用时：{:.2f}秒'.format(func.__name__, (end - start)))\n",
    "        return res\n",
    "    \n",
    "    return inner\n",
    "\n",
    "@timer      #相当于 f1 = timer(f1) 语句\n",
    "def f1(n):\n",
    "    print('f1 run')\n",
    "    time.sleep(n)\n",
    "    return 'wake up'\n",
    "    \n",
    "\n",
    "res = f1(2)\n",
    "print(res)"
   ]
  },
  {
   "cell_type": "markdown",
   "metadata": {},
   "source": [
    "- **带参数的装饰器**\n",
    "\n",
    "装饰器本身要传递一些额外参数\n",
    "\n",
    "- 需求：有事需要统计绝对时间，有时需要统计绝对时间的2倍"
   ]
  },
  {
   "cell_type": "code",
   "execution_count": null,
   "metadata": {},
   "outputs": [],
   "source": [
    "import time\n",
    "\n",
    "def timer(method):\n",
    "    \n",
    "    def outer(func):\n",
    "        \n",
    "        def inner(*args, **kwargs):\n",
    "            print('inner run')\n",
    "            if method == 'origin':\n",
    "                print('origin_inner run')\n",
    "                start = time.time()\n",
    "                res = func(*args, **kwargs)\n",
    "                end = time.time()\n",
    "                print('{}函数运行用时：{:.2f}秒'.format(func.__name__, (end - start)))\n",
    "            elif method == 'double':\n",
    "                print('double_inner run')\n",
    "                start = time.time()\n",
    "                res = func(*args, **kwargs)\n",
    "                end = time.time()\n",
    "                print('{}函数运行双倍用时：{:.2f}秒'.format(func.__name__, 2*(end - start)))\n",
    "            return res\n",
    "    \n",
    "        return inner\n",
    "    \n",
    "    return outer\n",
    "\n",
    "@timer(method='origin')      #相当于 timer = timer(method='origin')    f1 = timer(f1)\n",
    "def f1(n):\n",
    "    print('f1 run')\n",
    "    time.sleep(n)\n",
    "    return 'wake up'\n",
    "    \n",
    "\n",
    "@timer(method='double')      #相当于 timer = timer(method='double')    f1 = timer(f1)\n",
    "def f2(n):\n",
    "    print('f2 run')\n",
    "    time.sleep(n)\n",
    "    return 'wake up'\n",
    "\n",
    "res = f1(2)\n",
    "print(res)\n",
    "\n",
    "res = f2(2)\n",
    "print(res)"
   ]
  },
  {
   "cell_type": "markdown",
   "metadata": {},
   "source": [
    "**理解闭包是关键！！！**\n",
    "\n",
    "- **何时执行装饰器？**\n",
    "\n",
    "一装饰就执行，不必等调用"
   ]
  },
  {
   "cell_type": "code",
   "execution_count": null,
   "metadata": {},
   "outputs": [],
   "source": [
    "func_names = []\n",
    "\n",
    "def find_function(func):\n",
    "    print('run')\n",
    "    func_names.append(func)\n",
    "    return func\n",
    "\n",
    "@find_function\n",
    "def f1():\n",
    "    print('f1 run')\n",
    "\n",
    "    \n",
    "@find_function\n",
    "def f2():\n",
    "    print('f2 run')\n",
    "    \n",
    "    \n",
    "@find_function\n",
    "def f3():\n",
    "    print('f3 run')"
   ]
  },
  {
   "cell_type": "code",
   "execution_count": null,
   "metadata": {},
   "outputs": [],
   "source": [
    "for func in func_names:\n",
    "    print(func.__name__)\n",
    "    func()\n",
    "    print()"
   ]
  },
  {
   "cell_type": "markdown",
   "metadata": {},
   "source": [
    "- **回归本源**\n",
    "\n",
    "**原函数的属性倍掩盖了**"
   ]
  },
  {
   "cell_type": "code",
   "execution_count": null,
   "metadata": {},
   "outputs": [],
   "source": [
    "import time\n",
    "\n",
    "def timer(func):\n",
    "    def inner():\n",
    "        print('inner run')\n",
    "        start = time.time()\n",
    "        func()\n",
    "        end = time.time()\n",
    "        print('{}函数运行用时{:.2f}秒'.format(func.__name__, (end-start)))\n",
    "    \n",
    "    return inner\n",
    "\n",
    "@timer\n",
    "def f1():\n",
    "    time.sleep(1)\n",
    "    print('f1 run')\n",
    "    \n",
    "\n",
    "print(f1.__name__)"
   ]
  },
  {
   "cell_type": "markdown",
   "metadata": {},
   "source": [
    "@wraps"
   ]
  },
  {
   "cell_type": "code",
   "execution_count": null,
   "metadata": {},
   "outputs": [],
   "source": [
    "import time\n",
    "\n",
    "def timer(func):\n",
    "    @wraps(func)\n",
    "    def inner():\n",
    "        print('inner run')\n",
    "        start = time.time()\n",
    "        func()\n",
    "        end = time.time()\n",
    "        print('{}函数运行用时{:.2f}秒'.format(func.__name__, (end-start)))\n",
    "    \n",
    "    return inner\n",
    "\n",
    "@timer\n",
    "def f1():\n",
    "    time.sleep(1)\n",
    "    print('f1 run')\n",
    "    \n",
    "\n",
    "print(f1.__name__)"
   ]
  },
  {
   "cell_type": "markdown",
   "metadata": {},
   "source": [
    "## 第二部分 Numpy\n",
    "\n",
    "*问题：有了列表、元组那么多组合数据类型，为什么还要用Numpy？*"
   ]
  },
  {
   "cell_type": "code",
   "execution_count": null,
   "metadata": {},
   "outputs": [],
   "source": [
    "%run answer.py"
   ]
  },
  {
   "cell_type": "markdown",
   "metadata": {},
   "source": [
    "[Numpy](https://numpy.org/)是一个开源的python科学计算基础库。\n",
    "\n",
    "1.一个强大的N维数组对象ndarray\n",
    "\n",
    "2.广播功能函数\n",
    "\n",
    "3.整合C/C++/Fortran代码的工具\n",
    "\n",
    "4.线性代数、傅里叶变换、随机数生成等功能\n",
    "\n",
    "NumPy是SciPy、Pandas等数据处理或科学计算库的基础。\n",
    "\n",
    "### 1. Ndarray\n",
    "\n",
    "**一维数据**：一般认为，是对同一个参数多次观测而得到的一组数据。\n",
    "\n",
    "**二维数据**：由多个一维数据构成，是一维数据组合形式。\n",
    "\n",
    "**高维数据**：高维数据仅利用最基本的二元关系展示数据间的复杂结构\n",
    "\n",
    "如果我们使用Python的基本数据类型来表示一维数据，可以使用列表和集合类型"
   ]
  },
  {
   "cell_type": "code",
   "execution_count": null,
   "metadata": {},
   "outputs": [],
   "source": [
    "a = ['00120345','00120346', '00120347'] #有序\n",
    "\n",
    "b = {'小蓝', '小红', '小黄'} #无序"
   ]
  },
  {
   "cell_type": "code",
   "execution_count": 10,
   "metadata": {},
   "outputs": [
    {
     "ename": "SyntaxError",
     "evalue": "invalid character in identifier (<ipython-input-10-f927f6e3b3f0>, line 1)",
     "output_type": "error",
     "traceback": [
      "\u001b[1;36m  File \u001b[1;32m\"<ipython-input-10-f927f6e3b3f0>\"\u001b[1;36m, line \u001b[1;32m1\u001b[0m\n\u001b[1;33m    如果我们要表征二维数据或高维数据，可以使用嵌套列表。\u001b[0m\n\u001b[1;37m                             ^\u001b[0m\n\u001b[1;31mSyntaxError\u001b[0m\u001b[1;31m:\u001b[0m invalid character in identifier\n"
     ]
    }
   ],
   "source": [
    "如果我们要表征二维数据或高维数据，可以使用嵌套列表。"
   ]
  },
  {
   "cell_type": "code",
   "execution_count": null,
   "metadata": {},
   "outputs": [],
   "source": [
    "a = [[20190101,20190102,20190103],\n",
    "     ['happy','sad','happy']]"
   ]
  },
  {
   "cell_type": "markdown",
   "metadata": {},
   "source": [
    "但如前所述，如果使用嵌套列表，会存在很多问题，使用起来也很不方便。\n",
    "\n",
    "【例1】如果我们要计算$\\frac{A^{2} + B^{2}}{2}$，其中，A和B是一维数组"
   ]
  },
  {
   "cell_type": "code",
   "execution_count": null,
   "metadata": {},
   "outputs": [],
   "source": [
    "def pySum(a, b):\n",
    "    c=[]\n",
    "    for i in range(len(a)):\n",
    "        c.append((a[i]**2+b[i]**2)/2)\n",
    "    return c\n",
    "\n",
    "a = [0, 1, 2, 3, 4]\n",
    "b = [9, 8, 7, 6, 5]\n",
    "print(pySum(a, b))"
   ]
  },
  {
   "cell_type": "markdown",
   "metadata": {},
   "source": [
    "上述方法我们还是将我们的工作点放在一个一个元素的运算上，这并不是一种科学计算（不够抽象）的思想和方式。\n",
    "\n",
    "Numpy使用了另外一种思路。如下："
   ]
  },
  {
   "cell_type": "code",
   "execution_count": null,
   "metadata": {},
   "outputs": [],
   "source": [
    "import numpy as np  #引入numpy模块\n",
    "import pandas as pd\n",
    "\n",
    "def npSum(a, b):    \n",
    "    c = (a**2 + b**2) / 2   # '**' 数组中每个元素的次方\n",
    "    return c\n",
    "\n",
    "a = np.array([0,1,2,3,4]) #生成一个数组\n",
    "b = np.array([9,8,7,6,5])\n",
    "print(npSum(a, b))"
   ]
  },
  {
   "cell_type": "markdown",
   "metadata": {},
   "source": [
    "#### 1.1 ndarray\n",
    "\n",
    "- **ndarray的优势**\n",
    "\n",
    "    1. 数组对象可以去掉元素间运算所需的循环，使一维向量更像单个数据。\n",
    "\n",
    "    2. 通过设置专门的数组对象，经过优化，可以提升这类应用的运算速度。\n",
    "\n",
    "        - NumPy的底层实现是由C来完成的，在进行数组运算的时候，底层的C会提供非常高效和快速的运算性能。\n",
    "        - 由于在科学计算中，一个维度所有数据的类型往往相同（见一维数据的一般定义），数组对象采用相同的数据类型，有助于节省运算和存储空间。"
   ]
  },
  {
   "cell_type": "markdown",
   "metadata": {},
   "source": [
    "- **ndarray的内部构成**\n",
    "\n",
    "    1.实际的数据（data）\n",
    "\n",
    "    2.描述这些数据的元数据（metadata），如数据维度、数据类型等\n",
    "\n",
    "ndarray数组一般要求所有元素类型相同（同质），数组下标从0开始。\n",
    "\n",
    "注：当然，ndarray数组可以由非同质对象构成。其元素为对象类型。非同质ndarray无法有效发挥NumPy优势，尽量避免使用。\n",
    "\n",
    "- **ndarray的一些属性**"
   ]
  },
  {
   "cell_type": "code",
   "execution_count": null,
   "metadata": {},
   "outputs": [],
   "source": [
    "a=np.array([[0,1,2,3,4],\n",
    "            [9,8,7,6,5]])\n",
    "a"
   ]
  },
  {
   "cell_type": "code",
   "execution_count": null,
   "metadata": {},
   "outputs": [],
   "source": [
    "print(a) # 打印时元素由空格分割"
   ]
  },
  {
   "cell_type": "code",
   "execution_count": null,
   "metadata": {},
   "outputs": [],
   "source": [
    "a.ndim  # 秩，即轴的数量或维度的数量"
   ]
  },
  {
   "cell_type": "code",
   "execution_count": null,
   "metadata": {},
   "outputs": [],
   "source": [
    "a.shape # ndarray对象的尺度，对于矩阵，n行m列"
   ]
  },
  {
   "cell_type": "code",
   "execution_count": null,
   "metadata": {},
   "outputs": [],
   "source": [
    "a.size  # ndarray对象元素的个数，相当于.shape中的n*m的值"
   ]
  },
  {
   "cell_type": "code",
   "execution_count": null,
   "metadata": {},
   "outputs": [],
   "source": [
    "a.dtype # ndarray对象的元素类型"
   ]
  },
  {
   "cell_type": "markdown",
   "metadata": {},
   "source": [
    "[dtype有哪些？为什么？](https://numpy.org/doc/1.18/user/basics.types.html)"
   ]
  },
  {
   "cell_type": "code",
   "execution_count": null,
   "metadata": {},
   "outputs": [],
   "source": [
    "a.itemsize  # ndarray对象中每个元素的大小，以字节为单位"
   ]
  },
  {
   "cell_type": "markdown",
   "metadata": {},
   "source": [
    "*轴与秩*\n",
    "\n",
    "轴（axis）:保存数据的维度\n",
    "\n",
    "秩（rank）:轴的数量，即有几个维度\n",
    "\n",
    "ndarray的元素类型（支持的数据类型可自行百度或见[numpy doc](https://numpy.org/doc/1.18/user/basics.types.html)）\n",
    "\n",
    "    1. 科学计算涉及数据较多，对存储和性能都有较高要求。\n",
    "\n",
    "    2. 对元素类型精细定义，有助于NumPy合理使用存储空间并优化性能。\n",
    "\n",
    "    3. 对元素类型精细定义，有助于程序员对程序规模有合理评估。"
   ]
  },
  {
   "cell_type": "markdown",
   "metadata": {},
   "source": [
    "- **ndarray的创建**\n",
    "\n",
    "1.从Python中的列表、元组等类型中创建ndarray数组"
   ]
  },
  {
   "cell_type": "code",
   "execution_count": null,
   "metadata": {},
   "outputs": [],
   "source": [
    "x = np.array(list/tuple)\n",
    "x = np.array(list/tuple, dtype = np.float32) #指定元素的数据类型\n",
    "\n",
    "# 当np.array()不指定dtype时，NumPy根据数据情况关联一个dtype类型"
   ]
  },
  {
   "cell_type": "markdown",
   "metadata": {},
   "source": [
    "2.使用NumPy中的内建函数来创建ndarray数组，如：arange,ones,zero等np.zeros()\n",
    "\n",
    "函数|说明\n",
    ":--|:--\n",
    "np.arange(n)|类似range()函数，返回ndarray类型，元素从0到n-1\n",
    "np.ones(shape）|根据shape生成一个全1数组，shape是元组类型\n",
    "np.zeros(shape)|根据shape生成一个全0数组，shape是元组类型\n",
    "np.full(shape,val)|根据shape生成一个数组，每个元素值都是val\n",
    "np.eye(n)|创建一个正方的n\\*n单位矩阵，对角线为1，其余为0\n"
   ]
  },
  {
   "cell_type": "code",
   "execution_count": null,
   "metadata": {},
   "outputs": [],
   "source": [
    "a = np.arange(100)\n",
    "a"
   ]
  },
  {
   "cell_type": "code",
   "execution_count": null,
   "metadata": {},
   "outputs": [],
   "source": [
    "a = np.ones((3,4), dtype=np.int8)\n",
    "a"
   ]
  },
  {
   "cell_type": "code",
   "execution_count": null,
   "metadata": {},
   "outputs": [],
   "source": [
    "a = np.zeros((3, 3, 3))\n",
    "a"
   ]
  },
  {
   "cell_type": "code",
   "execution_count": null,
   "metadata": {},
   "outputs": [],
   "source": [
    "a = np.full((3, 3), 666)\n",
    "a"
   ]
  },
  {
   "cell_type": "code",
   "execution_count": null,
   "metadata": {},
   "outputs": [],
   "source": [
    "a = np.eye(3)\n",
    "a"
   ]
  },
  {
   "cell_type": "markdown",
   "metadata": {},
   "source": [
    "除了上述方法，还可以：\n",
    "\n",
    "函数|说明\n",
    ":--|:--\n",
    "np.ones_like(a)|根据数组a的形状生成一个全1的数组\n",
    "np.zeros_like(a)|根据数组a的形状生成一个全0的数组\n",
    "np.full_like(a,val)|根据数组a的形状状生成一个数组,每个元素值都是val\n",
    "np.linspace(start,end,num)|根据起止数据及元素个数等间距地填充数据，形成数组，如果将参数endpoint置为False,end将不作为最后一个元素出现\n",
    "np.concatenate(a)|将两个或多个数组合并成一个新数组,a为一个元组"
   ]
  },
  {
   "cell_type": "code",
   "execution_count": null,
   "metadata": {},
   "outputs": [],
   "source": [
    "a = np.ones_like([99, 8, 1])\n",
    "a"
   ]
  },
  {
   "cell_type": "code",
   "execution_count": null,
   "metadata": {},
   "outputs": [],
   "source": [
    "a = np.zeros_like([[3], [3,4], [3,4,5]])\n",
    "a"
   ]
  },
  {
   "cell_type": "code",
   "execution_count": null,
   "metadata": {},
   "outputs": [],
   "source": [
    "a = np.full_like([1, 1, 1, 1], 666)\n",
    "a"
   ]
  },
  {
   "cell_type": "code",
   "execution_count": null,
   "metadata": {},
   "outputs": [],
   "source": [
    "a = np.linspace(1, 10, 4)\n",
    "a"
   ]
  },
  {
   "cell_type": "code",
   "execution_count": null,
   "metadata": {},
   "outputs": [],
   "source": [
    "b = np.linspace(1, 10, 4, endpoint=False)\n",
    "b"
   ]
  },
  {
   "cell_type": "code",
   "execution_count": null,
   "metadata": {},
   "outputs": [],
   "source": [
    "c = np.concatenate((a, b))\n",
    "c"
   ]
  },
  {
   "cell_type": "markdown",
   "metadata": {},
   "source": [
    "此外，还可以：\n",
    "\n",
    "3.从字节流（raw bytes）中创建ndarray数组。\n",
    "\n",
    "4.从文件中读取特定格式，创建ndarray数组。\n",
    "\n",
    "本部分暂略。"
   ]
  },
  {
   "cell_type": "markdown",
   "metadata": {},
   "source": [
    "- **ndarray的维度变换**\n",
    "\n",
    "对于创建后的ndarray数组，可以对其进行维度变换和元素类型变换，这在数据整理和计算环节应用广泛。\n",
    "\n",
    "维度变换的方法主要有：\n",
    "\n",
    "方法|说明\n",
    ":--|:--\n",
    ".reshape(shape)|不改变数组元素，返回一个shape（shape是一个元组）形状的数组，原数组不变\n",
    ".resize(shape)|与.reshape()功能一致，但修改原数组\n",
    ".swapaxes(ax1,ax2)|将数组n个维度中的两个维度进行调换\n",
    ".flatten()|对数组进行降维，返回折叠后的一维数组，原数组不变\n",
    "\n",
    "*ndarray转为列表*  .tolist() 方法"
   ]
  },
  {
   "cell_type": "code",
   "execution_count": null,
   "metadata": {},
   "outputs": [],
   "source": [
    "a = np.ones((2,3,4),dtype=np.int32)\n",
    "a"
   ]
  },
  {
   "cell_type": "code",
   "execution_count": null,
   "metadata": {},
   "outputs": [],
   "source": [
    "a.reshape((5, 3))"
   ]
  },
  {
   "cell_type": "code",
   "execution_count": null,
   "metadata": {},
   "outputs": [],
   "source": [
    "a"
   ]
  },
  {
   "cell_type": "code",
   "execution_count": null,
   "metadata": {},
   "outputs": [],
   "source": [
    "a.resize((3, 8))"
   ]
  },
  {
   "cell_type": "code",
   "execution_count": null,
   "metadata": {},
   "outputs": [],
   "source": [
    "a"
   ]
  },
  {
   "cell_type": "code",
   "execution_count": null,
   "metadata": {},
   "outputs": [],
   "source": [
    "a = np.ones((2,3,4),dtype=np.int32)\n",
    "a"
   ]
  },
  {
   "cell_type": "code",
   "execution_count": null,
   "metadata": {},
   "outputs": [],
   "source": [
    "a.flatten()"
   ]
  },
  {
   "cell_type": "code",
   "execution_count": null,
   "metadata": {},
   "outputs": [],
   "source": [
    "a"
   ]
  },
  {
   "cell_type": "code",
   "execution_count": null,
   "metadata": {},
   "outputs": [],
   "source": [
    "b = a.flatten()\n",
    "b"
   ]
  },
  {
   "cell_type": "code",
   "execution_count": null,
   "metadata": {},
   "outputs": [],
   "source": [
    "a = np.ones((2,3,4),dtype=np.int32)\n",
    "a"
   ]
  },
  {
   "cell_type": "code",
   "execution_count": null,
   "metadata": {},
   "outputs": [],
   "source": [
    "b = a.astype(np.float)\n",
    "b\n",
    "\n",
    "#astype()方法一定会创建新的数组（原始数据的一个拷贝），即使两个类型一致"
   ]
  },
  {
   "cell_type": "code",
   "execution_count": null,
   "metadata": {},
   "outputs": [],
   "source": [
    "a = np.ones((2,3,4),dtype=np.int32)\n",
    "a"
   ]
  },
  {
   "cell_type": "code",
   "execution_count": null,
   "metadata": {},
   "outputs": [],
   "source": [
    "a.tolist()"
   ]
  },
  {
   "cell_type": "markdown",
   "metadata": {},
   "source": [
    "- **ndarray的操作**\n",
    "\n",
    "数组的索引和切片\n",
    "\n",
    "索引：获取数组中特定位置元素的过程\n",
    "\n",
    "切片：获取数组元素子集的过程\n",
    "\n",
    "其中，一维数组的索引和切片与python的列表类似，同样允许反向切片和反向索引\n",
    "\n",
    "另外需要注意的是，每个维度一个索引值，逗号分割"
   ]
  },
  {
   "cell_type": "code",
   "execution_count": null,
   "metadata": {},
   "outputs": [],
   "source": [
    "a=np.arange(1, 10)\n",
    "a"
   ]
  },
  {
   "cell_type": "code",
   "execution_count": null,
   "metadata": {},
   "outputs": [],
   "source": [
    "a[2]"
   ]
  },
  {
   "cell_type": "code",
   "execution_count": null,
   "metadata": {},
   "outputs": [],
   "source": [
    "a[1:4:2] #切片  [起止编号：终止编号（不含）：步长]"
   ]
  },
  {
   "cell_type": "markdown",
   "metadata": {},
   "source": [
    "对多维数组而言，索引操作如下："
   ]
  },
  {
   "cell_type": "code",
   "execution_count": null,
   "metadata": {},
   "outputs": [],
   "source": [
    "a=np.arange(50).reshape((2,5,5))\n",
    "a"
   ]
  },
  {
   "cell_type": "code",
   "execution_count": null,
   "metadata": {},
   "outputs": [],
   "source": [
    "a[1,2,3]"
   ]
  },
  {
   "cell_type": "code",
   "execution_count": null,
   "metadata": {},
   "outputs": [],
   "source": [
    "a[0,1,2]"
   ]
  },
  {
   "cell_type": "code",
   "execution_count": null,
   "metadata": {},
   "outputs": [],
   "source": [
    "a[-1,-2,-3]  # -1表示数组中最后一个元素值，-2表示倒数第二个元素值"
   ]
  },
  {
   "cell_type": "markdown",
   "metadata": {},
   "source": [
    "对多维数组而言，切片操作如下："
   ]
  },
  {
   "cell_type": "code",
   "execution_count": null,
   "metadata": {},
   "outputs": [],
   "source": [
    "a[:,1,-3]  #选取整个维度，此处表示第一维度的每个元素都要进行切片\n"
   ]
  },
  {
   "cell_type": "code",
   "execution_count": null,
   "metadata": {},
   "outputs": [],
   "source": [
    "a[:,1:3,:]  #每个维度切片方法与一维数组相同"
   ]
  },
  {
   "cell_type": "code",
   "execution_count": null,
   "metadata": {},
   "outputs": [],
   "source": [
    "a[:,:,::2]     # 每个维度可以使用步长跳跃切片"
   ]
  },
  {
   "cell_type": "markdown",
   "metadata": {},
   "source": [
    "- **ndarray数组的运算**\n",
    "\n",
    "1.数组与标量之间的运算作用于数组的每一个元素\n",
    "\n",
    "相当于矩阵乘以标量\n",
    "\n",
    "$$        \\alpha \\cdot \\begin{pmatrix}\n",
    "        x_{11} & x_{12} & \\cdots & x_{1n} \\\\\n",
    "        x_{21} & x_{22} & \\cdots & x_{2n} \\\\\n",
    "         \\vdots & \\vdots & \\ddots & \\vdots \\\\\n",
    "        x_{m1} & x_{m2} & \\cdots & x_{mn} \\\\\n",
    "        \\end{pmatrix} = \n",
    "        \\begin{pmatrix}\n",
    "        \\alpha \\cdot x_{11} & \\alpha \\cdot x_{12} & \\cdots & \\alpha \\cdot x_{1n} \\\\\n",
    "        \\alpha \\cdot x_{21} & \\alpha \\cdot x_{22} & \\cdots & \\alpha \\cdot x_{2n} \\\\\n",
    "         \\vdots & \\vdots & \\ddots & \\vdots \\\\\n",
    "        \\alpha \\cdot x_{m1} & \\alpha \\cdot x_{m2} & \\cdots & \\alpha \\cdot x_{mn} \\\\\n",
    "        \\end{pmatrix} $$"
   ]
  },
  {
   "cell_type": "code",
   "execution_count": null,
   "metadata": {},
   "outputs": [],
   "source": [
    "a=np.arange(50).reshape((2,5,5))\n",
    "a"
   ]
  },
  {
   "cell_type": "code",
   "execution_count": null,
   "metadata": {},
   "outputs": [],
   "source": [
    "a.mean()  #求a中所有元素平均值"
   ]
  },
  {
   "cell_type": "code",
   "execution_count": null,
   "metadata": {},
   "outputs": [],
   "source": [
    "a = a / a.mean()  #计算a与元素平均值的商\n",
    "a"
   ]
  },
  {
   "cell_type": "markdown",
   "metadata": {},
   "source": [
    "- **NumPy一元函数**\n",
    "\n",
    "对ndarray中的数据执行元素级运算的函数\n",
    "\n",
    "<table>\n",
    "    <tr>\n",
    "        <th>函数</th>\n",
    "        <th>说明</th>\n",
    "    </tr>\n",
    "    <tr>\n",
    "        <td>np.abs(x) np.fabs(x)</td>\n",
    "        <td>计算数组各元素（整数、浮点数）的绝对值</td>\n",
    "    </tr>\n",
    "    <tr>\n",
    "        <td>np.sqrt(x)</td>\n",
    "        <td>计算数组各元素的平方根</td>\n",
    "    </tr>\n",
    "    <tr>\n",
    "        <td>np.square(x)</td>\n",
    "        <td>计算数组各元素的平方</td>\n",
    "    </tr>\n",
    "    <tr>\n",
    "        <td>np.log(x) np.log10(x)</td>\n",
    "        <td rowspan=\"2\">计算数组各元素的自然对数、10底对数和2底对数</td>\n",
    "    </tr>\n",
    "    <tr>\n",
    "        <td>np.log2(x) </td>\n",
    "    </tr>\n",
    "    <tr>\n",
    "        <td>np.ceil(x) np.floor(x)</td>\n",
    "        <td>计算数组各元素的ceiling值（向上取整）或floor值（向下取整）</td>\n",
    "    </tr>\n",
    "    <tr>\n",
    "        <td>np.rint(x)</td>\n",
    "        <td>计算数组各元素的四舍五入值</td>\n",
    "    </tr>\n",
    "    <tr>\n",
    "        <td>np.modf(x)</td>\n",
    "        <td>将数组各元素的小数和整数部分以两个独立数组形式返回</td>\n",
    "    </tr>\n",
    "    <tr>\n",
    "        <td>np.cos(x) np.cosh(x)</td> \n",
    "        <td rowspan=\"3\">计算数组各元素的普通型和双曲型三角函数</td>\n",
    "    </tr>\n",
    "    <tr>\n",
    "        <td>np.sin(x) np.sinh(x)</td>\n",
    "    </tr>\n",
    "    <tr>\n",
    "        <td>np.tan(x) np.tanh(x)</td>\n",
    "    </tr>\n",
    "    <tr>\n",
    "        <td>np.exp(x)</td>\n",
    "        <td>计算数组各元素的指数值</td>\n",
    "    </tr>\n",
    "    <tr>\n",
    "        <td>np.sign(x)</td>\n",
    "        <td>计算数组各元素的符号值，1(+),0,-1(-)</td>\n",
    "    </tr>\n",
    "</table>"
   ]
  },
  {
   "cell_type": "code",
   "execution_count": null,
   "metadata": {},
   "outputs": [],
   "source": [
    "a=np.arange(50).reshape((2,5,5))\n",
    "a"
   ]
  },
  {
   "cell_type": "code",
   "execution_count": null,
   "metadata": {},
   "outputs": [],
   "source": [
    "np.square(a)"
   ]
  },
  {
   "cell_type": "code",
   "execution_count": null,
   "metadata": {},
   "outputs": [],
   "source": [
    "a"
   ]
  },
  {
   "cell_type": "code",
   "execution_count": null,
   "metadata": {},
   "outputs": [],
   "source": [
    "a = np.sqrt(a)\n",
    "a"
   ]
  },
  {
   "cell_type": "code",
   "execution_count": null,
   "metadata": {},
   "outputs": [],
   "source": [
    "np.modf(a)"
   ]
  },
  {
   "cell_type": "markdown",
   "metadata": {},
   "source": [
    "- **Numpy二元函数**\n",
    "\n",
    "函数|说明\n",
    ":--|:--\n",
    "+ - * / **|两个数组各元素进行对应运算\n",
    "np.maximum(x,y) np.fmax()|返回一个元素为两个数组对应位置中较大的元素组成的数组\n",
    "np.minimum(x,y) np.fmin()|返回一个元素为两个数组对应位置中较小的元素组成的数组\n",
    "np.mod(x,y)|元素级的模运算\n",
    "np.copysign(x,y)|将数组y中各元素值的符号赋值给数组x对应元素\n",
    "\\> < >= <= == !=|算术比较，产生布尔型数组\n"
   ]
  },
  {
   "cell_type": "code",
   "execution_count": null,
   "metadata": {},
   "outputs": [],
   "source": [
    "a=np.arange(50).reshape((2,5,5))\n",
    "a"
   ]
  },
  {
   "cell_type": "code",
   "execution_count": null,
   "metadata": {},
   "outputs": [],
   "source": [
    "b = np.sqrt(a)\n",
    "b"
   ]
  },
  {
   "cell_type": "code",
   "execution_count": null,
   "metadata": {},
   "outputs": [],
   "source": [
    "np.maximum(a, b)"
   ]
  },
  {
   "cell_type": "code",
   "execution_count": null,
   "metadata": {},
   "outputs": [],
   "source": [
    "a > b"
   ]
  },
  {
   "cell_type": "markdown",
   "metadata": {},
   "source": [
    "## 第三部分 Numpy数据存取与函数\n",
    "\n",
    "### 1. csv文件读写\n",
    "\n",
    "#### 1. 读取\n",
    "\n",
    "一般来说,我们常用CSV文件（Comma-Separated Value,逗号分隔值）来存储二维批量数据。\n",
    "\n",
    "![](coronavirus.png)\n",
    "\n",
    "但Numpy并不能直接打开csv文件，但可以把csv文件当作一个txt文件来解码。（其实csv本质也是一个txt）[方法](https://docs.scipy.org/doc/numpy/reference/generated/numpy.loadtxt.html)是：\n",
    "\n",
    "numpy.loadtxt(fname, dtype=<class 'float'>, comments='#', delimiter=None, converters=None, skiprows=0, usecols=None, unpack=False, ndmin=0, encoding='bytes', max_rows=None)\n",
    "\n",
    "\n",
    "参数|说明\n",
    ":---|:---\n",
    "fname|文件、字符串或产生器，可以是.gz或.bz2的压缩文件\n",
    "dtype|数据类型，可选\n",
    "delimiter|分割字符串，默认是任何空格\n",
    "unpack|如果True，读入属性将分别写入不同变量\n",
    "\n",
    "但千万注意，np.loadtxt()方法会把读取文件的内容转化为一个ndarray，所以当文件中有不同数据类型的数据时，可能会导致错误。对数据文件来说，**Each row in the text file must have the same number of values.**"
   ]
  },
  {
   "cell_type": "code",
   "execution_count": null,
   "metadata": {},
   "outputs": [],
   "source": [
    "a = np.loadtxt('coronavirus.csv', delimiter=',')\n",
    "a"
   ]
  },
  {
   "cell_type": "code",
   "execution_count": null,
   "metadata": {},
   "outputs": [],
   "source": [
    "a = np.loadtxt('a.csv', delimiter=',')\n",
    "a"
   ]
  },
  {
   "cell_type": "markdown",
   "metadata": {},
   "source": [
    "#### 1.2 写入\n",
    "\n",
    "虽然不能很方便的打开复杂的数据文件，但我们可以用[np.savetxt()方法](https://docs.scipy.org/doc/numpy/reference/generated/numpy.savetxt.html)将文件写入CSV文件：\n",
    "\n",
    "numpy.savetxt(fname, X, fmt='%.18e', delimiter=' ', newline='n', header='', footer='', comments='# ', encoding=None)\n",
    "\n",
    "参数|说明\n",
    ":---|:---\n",
    "fname|文件（如：a.csv）、字符串或产生器，可以是.gz或.bz2的压缩文件。\n",
    "array|存入文件的数组。\n",
    "fmt|写入文件的格式，例如：%d %.2f %.18e(科学计数法保留18位小数).a.csv\n",
    "delimiter|分割字符串，默认是空格。\n",
    "\n",
    "另外需要注意的是，csv文件适用于二维数据，如果数维度据过于复杂，请不要使用np.savetxt()方法。"
   ]
  },
  {
   "cell_type": "code",
   "execution_count": null,
   "metadata": {},
   "outputs": [],
   "source": [
    "b = np.arange(100).reshape((2, 5, 10))\n",
    "np.savetxt('b.csv', b, fmt='%d', delimiter=',')"
   ]
  },
  {
   "cell_type": "code",
   "execution_count": null,
   "metadata": {},
   "outputs": [],
   "source": [
    "b = np.arange(100).reshape(10, 10)\n",
    "np.savetxt('b.csv', b, fmt='%d', delimiter=',')"
   ]
  },
  {
   "cell_type": "code",
   "execution_count": null,
   "metadata": {},
   "outputs": [],
   "source": [
    "b = np.arange(100).reshape(10, 10)\n",
    "np.savetxt('b.csv', b, fmt='%.1f', delimiter=',')"
   ]
  },
  {
   "cell_type": "markdown",
   "metadata": {},
   "source": [
    "#### 1.3 CSV文件的局限性\n",
    "\n",
    "CSV文件只能有效存储一维和二维数组\n",
    "\n",
    "np.savetxt() np.loadtxt()只能有效存取一维和二维数组\n",
    "\n",
    "#### 1.4 任意维度数据的存取\n",
    "\n",
    "- **维度的丢失**\n",
    "\n",
    "**np.ndarray.tofile()**\n",
    "\n",
    "利用[np.ndarray.tofile()方法](https://docs.scipy.org/doc/numpy/reference/generated/numpy.ndarray.tofile.html)\n",
    "\n",
    "np.ndarray.tofile(fid, sep=\"\", format=\"%s\")\n",
    "\n",
    "参数|说明\n",
    ":--|:--\n",
    "fid|一个已经打开的文件对象或文件地址。\n",
    "sep|数据分割字符串，如果是空串，写入文件为二进制。\n",
    "format|写入数据的格式。"
   ]
  },
  {
   "cell_type": "code",
   "execution_count": null,
   "metadata": {},
   "outputs": [],
   "source": [
    "a = np.arange(100).reshape((2, 5, 10))\n",
    "print(a)\n",
    "a.tofile('a.dat', sep=',', format='%d')"
   ]
  },
  {
   "cell_type": "markdown",
   "metadata": {},
   "source": [
    "但是，使用ndarray.tofile()存储数据，会失去维度信息。\n",
    "\n",
    "打开文件后，没有维度信息，只是将数组中的元素逐一地列出并输出到该文件中，是个文本文件。\n",
    "\n",
    "我们可以使用[np.fromfile()方法](https://docs.scipy.org/doc/numpy/reference/generated/numpy.fromfile.html)打开这个文件看看。\n",
    "\n",
    "**np.fromfile()**\n",
    "\n",
    "numpy.fromfile(file, dtype=float, count=-1, sep='', offset=0)\n",
    "\n",
    "\n",
    "参数|说明\n",
    ":--|:--\n",
    "frame|文件、字符串。\n",
    "dtype|读取的数据类型。\n",
    "count|读入元素的个数，-1表示读入整个文件。\n",
    "sep|数据分割字符串，如果是空串，写入文件为二进制。\n",
    "offset|The offset (in bytes) from the file’s current position. Defaults to 0. Only permitted for binary files.\n",
    "\n",
    "注意：该方法需要读取时知道存入文件时数组的维度和元素类型\n",
    "\n",
    "ndarray.tofile()和np.fromfile()需要配合使用\n",
    "\n",
    "为了解决上述问题，我们可以通过再写一个文件，将要存储的数组的每个元素的类型及数组的维度作为元信息存储起来，读入数组时通过元文件获取该数组的信息。\n",
    "\n",
    "这样的方法显然有一些复杂和麻烦，但是对于一些大规模数据存储时这样的方法还是有效的。"
   ]
  },
  {
   "cell_type": "code",
   "execution_count": null,
   "metadata": {},
   "outputs": [],
   "source": [
    "b = np.fromfile('a.dat', dtype=np.int, sep=',')\n",
    "\n",
    "b"
   ]
  },
  {
   "cell_type": "markdown",
   "metadata": {},
   "source": [
    "只有我们通过ndarray.reshape()方法，才能把读入文件的数据重新整理成为我们想要的维度。"
   ]
  },
  {
   "cell_type": "code",
   "execution_count": null,
   "metadata": {},
   "outputs": [],
   "source": [
    "c = np.fromfile(\"a.dat\",dtype=np.int,sep='').reshape((5,2,10)  #利用reshape方法得到想要的数组维度"
   ]
  },
  {
   "cell_type": "markdown",
   "metadata": {},
   "source": [
    "- **使用np.save()保存维度信息**\n",
    "\n",
    "使用[np.save()](https://docs.scipy.org/doc/numpy/reference/generated/numpy.save.html)可以很好地解决多维数组的存取问题\n",
    "\n",
    "这种方法文件的读取和写入是基于numpy自定义的文件格式(.npy)，如果你不想用这种文件格式，就用上一种方法，如果无所谓，就使用这种方法。\n",
    "\n",
    "numpy.save(file, arr, allow_pickle=True, fix_imports=True)\n",
    "\n",
    "参数|说明\n",
    ":--|:--\n",
    "frame|文件名称，以.npy为扩展名 。这种文件是numpy自定义的文件类型\n",
    "array|数组变量\n",
    "\n",
    "打开.npy文件需要使用[np.load()方法](https://docs.scipy.org/doc/numpy/reference/generated/numpy.load.html)\n",
    "\n",
    "numpy.load(file, mmap_mode=None, allow_pickle=False, fix_imports=True, encoding='ASCII')\n"
   ]
  },
  {
   "cell_type": "code",
   "execution_count": null,
   "metadata": {},
   "outputs": [],
   "source": [
    "a = np.arange(100).reshape((2, 5, 10))\n",
    "\n",
    "np.save('a.npy', a)\n",
    "\n",
    "b = np.load('a.npy')\n",
    "\n",
    "b"
   ]
  },
  {
   "cell_type": "markdown",
   "metadata": {},
   "source": [
    "### 2. Numpy函数\n",
    "\n",
    "Numpy下提供了一系列子库，来帮助我们实现许多专门针对数组（或者说矩阵）的科学计算。\n",
    "\n",
    "#### 2.1 numpy的随机数函数子库\n",
    "\n",
    "调用：\n",
    "\n",
    "np.random.*\n",
    "\n",
    "函数|说明\n",
    ":--|:--\n",
    "rand(d0,d1,…dn)|根据d0-dn创建随机数数组，浮点数，\\[0,1),均匀分布\n",
    "randn(d0,d1,…dn)|根据d0-dn创建随机数数组，标准正态分布\n",
    "randint(low[,high,shape])|根据shape创建随机整数或整数数组，范围是[low,high)\n",
    "seed(s)|随机数种子，s是给定的种子值"
   ]
  },
  {
   "cell_type": "code",
   "execution_count": 13,
   "metadata": {},
   "outputs": [
    {
     "data": {
      "text/plain": [
       "array([[[ 0.59681127,  0.02667126,  0.51460419,  0.94721204,  0.19789692],\n",
       "        [ 0.10024366,  0.14418368,  0.46280433,  0.14513631,  0.94636394],\n",
       "        [ 0.34020967,  0.41036069,  0.30391701,  0.51424916,  0.12915557],\n",
       "        [ 0.25875872,  0.30504911,  0.93953048,  0.91017628,  0.3793624 ]],\n",
       "\n",
       "       [[ 0.12334194,  0.40916894,  0.52825972,  0.09428966,  0.9115838 ],\n",
       "        [ 0.44136913,  0.42367452,  0.96557259,  0.22835105,  0.36517107],\n",
       "        [ 0.38651744,  0.18184143,  0.92658909,  0.57568911,  0.06019857],\n",
       "        [ 0.03197147,  0.22628539,  0.09415259,  0.3673241 ,  0.8032427 ]],\n",
       "\n",
       "       [[ 0.31193377,  0.04916177,  0.42092399,  0.24508466,  0.51393682],\n",
       "        [ 0.1166268 ,  0.0311872 ,  0.42764972,  0.40703555,  0.31740228],\n",
       "        [ 0.21361418,  0.04668915,  0.31918625,  0.78754106,  0.51783106],\n",
       "        [ 0.31626732,  0.46849685,  0.12616543,  0.29358229,  0.28680984]]])"
      ]
     },
     "execution_count": 13,
     "metadata": {},
     "output_type": "execute_result"
    }
   ],
   "source": [
    "import numpy as np\n",
    "\n",
    "a = np.random.rand(3, 4, 5)\n",
    "\n",
    "a"
   ]
  },
  {
   "cell_type": "code",
   "execution_count": 14,
   "metadata": {},
   "outputs": [
    {
     "data": {
      "text/plain": [
       "array([[[ 0.0096029 ,  0.39005631,  0.06028984,  2.08340831, -0.18639839],\n",
       "        [ 0.33409774, -0.24322648, -0.47744267,  0.10147294,  1.47331993],\n",
       "        [ 0.69479618,  0.75015632, -1.01996512,  0.42726785, -0.09331923],\n",
       "        [-0.53552049,  1.75808658,  0.47255945,  0.17644677,  1.87138484]],\n",
       "\n",
       "       [[-0.72060796, -0.85849889, -0.66080736,  0.96234456, -0.77610856],\n",
       "        [ 0.10623383, -1.08139342, -1.03583717,  0.17435812, -0.48084228],\n",
       "        [-0.80008444,  0.2923613 ,  0.54164184, -0.38103277, -0.60495526],\n",
       "        [ 0.99458812, -3.19024302, -0.49591681,  0.94570547,  2.2664439 ]],\n",
       "\n",
       "       [[-0.23846489,  0.64953486,  0.32890306,  1.55140417,  0.63096472],\n",
       "        [-1.10860706, -0.15436756, -0.06120377, -0.80896513,  0.24840792],\n",
       "        [ 0.02629778, -0.24078609, -0.39898805,  0.28727336,  0.91996996],\n",
       "        [-0.21317497, -0.83538437,  0.47246429, -0.45307583, -0.3556994 ]]])"
      ]
     },
     "execution_count": 14,
     "metadata": {},
     "output_type": "execute_result"
    }
   ],
   "source": [
    "b = np.random.randn(3, 4, 5)\n",
    "\n",
    "b"
   ]
  },
  {
   "cell_type": "code",
   "execution_count": 15,
   "metadata": {},
   "outputs": [
    {
     "data": {
      "text/plain": [
       "array([[129, 164, 165, 140],\n",
       "       [142, 180, 136, 183],\n",
       "       [187, 104, 145, 157]])"
      ]
     },
     "execution_count": 15,
     "metadata": {},
     "output_type": "execute_result"
    }
   ],
   "source": [
    "c = np.random.randint(100, 200, (3, 4))\n",
    "\n",
    "c"
   ]
  },
  {
   "cell_type": "code",
   "execution_count": 16,
   "metadata": {},
   "outputs": [
    {
     "data": {
      "text/plain": [
       "array([[109, 115, 164, 128],\n",
       "       [189, 193, 129, 108],\n",
       "       [173, 100, 140, 136]])"
      ]
     },
     "execution_count": 16,
     "metadata": {},
     "output_type": "execute_result"
    }
   ],
   "source": [
    "np.random.seed(10)\n",
    "\n",
    "np.random.randint(100, 200, (3, 4))"
   ]
  },
  {
   "cell_type": "code",
   "execution_count": 17,
   "metadata": {},
   "outputs": [
    {
     "data": {
      "text/plain": [
       "array([[109, 115, 164, 128],\n",
       "       [189, 193, 129, 108],\n",
       "       [173, 100, 140, 136]])"
      ]
     },
     "execution_count": 17,
     "metadata": {},
     "output_type": "execute_result"
    }
   ],
   "source": [
    "np.random.seed(10)\n",
    "\n",
    "np.random.randint(100, 200, (3, 4))"
   ]
  },
  {
   "cell_type": "markdown",
   "metadata": {},
   "source": [
    "函数|说明\n",
    ":--|:--\n",
    "shuffle(a)|根据数组a的第一轴（最外层维度）进行随机排列，改变数组x\n",
    "permutation(a)|根据数组a的第一轴产生一个新的乱序数组，不改变x\n",
    "choice(a\\[,size,replace,p\\])|从一维数组a中以概率p抽取元素，形成size形状新数组，replace表示是否可以重用元素，默认为False"
   ]
  },
  {
   "cell_type": "code",
   "execution_count": 18,
   "metadata": {},
   "outputs": [
    {
     "data": {
      "text/plain": [
       "array([[116, 111, 154, 188],\n",
       "       [162, 133, 172, 178],\n",
       "       [149, 151, 154, 177]])"
      ]
     },
     "execution_count": 18,
     "metadata": {},
     "output_type": "execute_result"
    }
   ],
   "source": [
    "a = np.random.randint(100, 200, (3, 4))\n",
    "\n",
    "a"
   ]
  },
  {
   "cell_type": "code",
   "execution_count": 19,
   "metadata": {},
   "outputs": [
    {
     "data": {
      "text/plain": [
       "array([[116, 111, 154, 188],\n",
       "       [149, 151, 154, 177],\n",
       "       [162, 133, 172, 178]])"
      ]
     },
     "execution_count": 19,
     "metadata": {},
     "output_type": "execute_result"
    }
   ],
   "source": [
    "np.random.shuffle(a)\n",
    "\n",
    "a"
   ]
  },
  {
   "cell_type": "code",
   "execution_count": 20,
   "metadata": {},
   "outputs": [
    {
     "data": {
      "text/plain": [
       "array([[116, 111, 154, 188],\n",
       "       [149, 151, 154, 177],\n",
       "       [162, 133, 172, 178]])"
      ]
     },
     "execution_count": 20,
     "metadata": {},
     "output_type": "execute_result"
    }
   ],
   "source": [
    "a"
   ]
  },
  {
   "cell_type": "code",
   "execution_count": 21,
   "metadata": {},
   "outputs": [
    {
     "data": {
      "text/plain": [
       "array([[125, 113, 192, 186],\n",
       "       [130, 130, 189, 112],\n",
       "       [165, 131, 157, 136]])"
      ]
     },
     "execution_count": 21,
     "metadata": {},
     "output_type": "execute_result"
    }
   ],
   "source": [
    "a = np.random.randint(100, 200, (3, 4))\n",
    "\n",
    "a"
   ]
  },
  {
   "cell_type": "code",
   "execution_count": 22,
   "metadata": {},
   "outputs": [
    {
     "data": {
      "text/plain": [
       "array([[125, 113, 192, 186],\n",
       "       [130, 130, 189, 112],\n",
       "       [165, 131, 157, 136]])"
      ]
     },
     "execution_count": 22,
     "metadata": {},
     "output_type": "execute_result"
    }
   ],
   "source": [
    "np.random.permutation(a)"
   ]
  },
  {
   "cell_type": "code",
   "execution_count": 23,
   "metadata": {},
   "outputs": [
    {
     "data": {
      "text/plain": [
       "array([[125, 113, 192, 186],\n",
       "       [130, 130, 189, 112],\n",
       "       [165, 131, 157, 136]])"
      ]
     },
     "execution_count": 23,
     "metadata": {},
     "output_type": "execute_result"
    }
   ],
   "source": [
    "a"
   ]
  },
  {
   "cell_type": "code",
   "execution_count": 24,
   "metadata": {},
   "outputs": [
    {
     "data": {
      "text/plain": [
       "array([0, 1, 2, 3, 4, 5, 6, 7, 8, 9])"
      ]
     },
     "execution_count": 24,
     "metadata": {},
     "output_type": "execute_result"
    }
   ],
   "source": [
    "a = np.arange(10)\n",
    "\n",
    "a"
   ]
  },
  {
   "cell_type": "code",
   "execution_count": 25,
   "metadata": {},
   "outputs": [
    {
     "data": {
      "text/plain": [
       "array([[6, 7],\n",
       "       [8, 8]])"
      ]
     },
     "execution_count": 25,
     "metadata": {},
     "output_type": "execute_result"
    }
   ],
   "source": [
    "np.random.choice(a, (2, 2))"
   ]
  },
  {
   "cell_type": "code",
   "execution_count": 26,
   "metadata": {},
   "outputs": [
    {
     "data": {
      "text/plain": [
       "array([[5, 4],\n",
       "       [8, 1]])"
      ]
     },
     "execution_count": 26,
     "metadata": {},
     "output_type": "execute_result"
    }
   ],
   "source": [
    "np.random.choice(a, (2, 2), replace=False)"
   ]
  },
  {
   "cell_type": "code",
   "execution_count": 27,
   "metadata": {},
   "outputs": [
    {
     "data": {
      "text/plain": [
       "array([[8, 7],\n",
       "       [9, 4]])"
      ]
     },
     "execution_count": 27,
     "metadata": {},
     "output_type": "execute_result"
    }
   ],
   "source": [
    "np.random.choice(a, (2, 2), p=a/np.sum(a))"
   ]
  },
  {
   "cell_type": "markdown",
   "metadata": {},
   "source": [
    "函数|说明\n",
    ":--|:--\n",
    "uniform(low,high,size)|产生具有均匀分布的数组，low 起始值，high结束值，size形状\n",
    "normal（loc，scale，size)|产生具有正态分布的数组，loc均值，scale标准差，size形状\n",
    "poisson(lam,size)|产生具有泊松分布的数组，lam随机事件发生率，size形状"
   ]
  },
  {
   "cell_type": "code",
   "execution_count": 28,
   "metadata": {},
   "outputs": [
    {
     "data": {
      "text/plain": [
       "array([[ 8.56850302,  3.51652639,  7.54647692,  2.95961707],\n",
       "       [ 8.8393648 ,  3.25511638,  1.65015898,  3.92529244],\n",
       "       [ 0.93460375,  8.21105658,  1.5115202 ,  3.84114449]])"
      ]
     },
     "execution_count": 28,
     "metadata": {},
     "output_type": "execute_result"
    }
   ],
   "source": [
    "a = np.random.uniform(0, 10, (3, 4))\n",
    "\n",
    "a"
   ]
  },
  {
   "cell_type": "code",
   "execution_count": 29,
   "metadata": {},
   "outputs": [
    {
     "data": {
      "text/plain": [
       "array([[ 16.41138338,   9.14097309,  12.8882903 ,   2.6251256 ],\n",
       "       [ 10.39394227,  14.59206826,   7.5365132 ,  10.48231186],\n",
       "       [  6.73620032,   8.89118781,   4.65856717,   3.86153973]])"
      ]
     },
     "execution_count": 29,
     "metadata": {},
     "output_type": "execute_result"
    }
   ],
   "source": [
    "b = np.random.normal(10, 5, (3, 4))\n",
    "\n",
    "b"
   ]
  },
  {
   "cell_type": "code",
   "execution_count": 30,
   "metadata": {},
   "outputs": [
    {
     "data": {
      "text/plain": [
       "array([[1, 0, 0, 1],\n",
       "       [0, 2, 0, 0],\n",
       "       [0, 0, 0, 0]])"
      ]
     },
     "execution_count": 30,
     "metadata": {},
     "output_type": "execute_result"
    }
   ],
   "source": [
    "c = np.random.poisson(0.5, (3, 4))\n",
    "\n",
    "c"
   ]
  },
  {
   "cell_type": "markdown",
   "metadata": {},
   "source": [
    "#### 2.2 numpy的统计函数\n",
    "\n",
    "统计函数即可以对数组进行统计计算的函数,numpy提供了库一级别的统计类函数\n",
    "\n",
    "调用 ： np.*\n",
    "\n",
    "函数|说明\n",
    ":--|:--\n",
    "sum(a,axis=None)|根据给定轴axis计算数组a相关元素之和，axis整数或元组\n",
    "mean(a,axis=None)|根据给定轴axis计算数组a相关元素的期望，axis整数或元组\n",
    "average(a,axis=None,weights=None)|根据给定轴axis计算数组a相关元素的加权平均值\n",
    "std(a,axis=None)|根据给定轴axis计算数组a相关元素的标准差\n",
    "var(a,axis=None)|根据给定轴axis计算数组a相关元素的方差\n"
   ]
  },
  {
   "cell_type": "code",
   "execution_count": 31,
   "metadata": {},
   "outputs": [
    {
     "data": {
      "text/plain": [
       "array([[ 0,  1,  2],\n",
       "       [ 3,  4,  5],\n",
       "       [ 6,  7,  8],\n",
       "       [ 9, 10, 11],\n",
       "       [12, 13, 14]])"
      ]
     },
     "execution_count": 31,
     "metadata": {},
     "output_type": "execute_result"
    }
   ],
   "source": [
    "a = np.arange(15).reshape(5, 3)\n",
    "\n",
    "a"
   ]
  },
  {
   "cell_type": "code",
   "execution_count": 32,
   "metadata": {},
   "outputs": [
    {
     "data": {
      "text/plain": [
       "105"
      ]
     },
     "execution_count": 32,
     "metadata": {},
     "output_type": "execute_result"
    }
   ],
   "source": [
    "np.sum(a)"
   ]
  },
  {
   "cell_type": "code",
   "execution_count": 33,
   "metadata": {},
   "outputs": [
    {
     "data": {
      "text/plain": [
       "array([ 6.,  7.,  8.])"
      ]
     },
     "execution_count": 33,
     "metadata": {},
     "output_type": "execute_result"
    }
   ],
   "source": [
    "np.mean(a, axis=0)"
   ]
  },
  {
   "cell_type": "code",
   "execution_count": 34,
   "metadata": {},
   "outputs": [
    {
     "data": {
      "text/plain": [
       "array([  1.,   4.,   7.,  10.,  13.])"
      ]
     },
     "execution_count": 34,
     "metadata": {},
     "output_type": "execute_result"
    }
   ],
   "source": [
    "np.mean(a, axis=1)"
   ]
  },
  {
   "cell_type": "code",
   "execution_count": 35,
   "metadata": {},
   "outputs": [
    {
     "data": {
      "text/plain": [
       "array([ 4.,  5.,  6.])"
      ]
     },
     "execution_count": 35,
     "metadata": {},
     "output_type": "execute_result"
    }
   ],
   "source": [
    "np.average(a, axis=0, weights=[10, 8, 6, 4, 2])"
   ]
  },
  {
   "cell_type": "code",
   "execution_count": 36,
   "metadata": {},
   "outputs": [
    {
     "data": {
      "text/plain": [
       "4.3204937989385739"
      ]
     },
     "execution_count": 36,
     "metadata": {},
     "output_type": "execute_result"
    }
   ],
   "source": [
    "np.std(a)"
   ]
  },
  {
   "cell_type": "code",
   "execution_count": 37,
   "metadata": {},
   "outputs": [
    {
     "data": {
      "text/plain": [
       "18.666666666666668"
      ]
     },
     "execution_count": 37,
     "metadata": {},
     "output_type": "execute_result"
    }
   ],
   "source": [
    "np.var(a)"
   ]
  },
  {
   "cell_type": "markdown",
   "metadata": {},
   "source": [
    "函数|说明\n",
    ":--|:--\n",
    "min(a) max(a)|计算数组a中元素的最小值、最大值\n",
    "argmin(a) argmax(a)|计算数组a中元素的最小值、最大值的降成一维数组后下标\n",
    "unravel_index(index,shape)|根据shape将一维下表index转换成多维下标\n",
    "ptp(a)|计算数组a中元素的最大值和最小值的差\n",
    "median(a)|计算数组a中元素的中位数（中值）\n",
    "\n",
    "说明：axis=None 是统计函数的标配参数，表示对数组中所有元素进行统计计算。\n"
   ]
  },
  {
   "cell_type": "code",
   "execution_count": 38,
   "metadata": {},
   "outputs": [
    {
     "data": {
      "text/plain": [
       "array([[15, 14, 13, 12, 11],\n",
       "       [10,  9,  8,  7,  6],\n",
       "       [ 5,  4,  3,  2,  1]])"
      ]
     },
     "execution_count": 38,
     "metadata": {},
     "output_type": "execute_result"
    }
   ],
   "source": [
    "a = np.arange(15, 0, -1).reshape(3, 5)\n",
    "\n",
    "a"
   ]
  },
  {
   "cell_type": "code",
   "execution_count": 39,
   "metadata": {},
   "outputs": [
    {
     "data": {
      "text/plain": [
       "15"
      ]
     },
     "execution_count": 39,
     "metadata": {},
     "output_type": "execute_result"
    }
   ],
   "source": [
    "np.max(a)"
   ]
  },
  {
   "cell_type": "code",
   "execution_count": 40,
   "metadata": {},
   "outputs": [
    {
     "data": {
      "text/plain": [
       "0"
      ]
     },
     "execution_count": 40,
     "metadata": {},
     "output_type": "execute_result"
    }
   ],
   "source": [
    "np.argmax(a)  #扁平化后的下标 "
   ]
  },
  {
   "cell_type": "code",
   "execution_count": 41,
   "metadata": {},
   "outputs": [
    {
     "data": {
      "text/plain": [
       "(0, 0)"
      ]
     },
     "execution_count": 41,
     "metadata": {},
     "output_type": "execute_result"
    }
   ],
   "source": [
    "np.unravel_index(np.argmax(a), a.shape)  #重塑成多维下标"
   ]
  },
  {
   "cell_type": "code",
   "execution_count": 42,
   "metadata": {},
   "outputs": [
    {
     "data": {
      "text/plain": [
       "14"
      ]
     },
     "execution_count": 42,
     "metadata": {},
     "output_type": "execute_result"
    }
   ],
   "source": [
    "np.ptp(a)"
   ]
  },
  {
   "cell_type": "code",
   "execution_count": 43,
   "metadata": {},
   "outputs": [
    {
     "data": {
      "text/plain": [
       "8.0"
      ]
     },
     "execution_count": 43,
     "metadata": {},
     "output_type": "execute_result"
    }
   ],
   "source": [
    "np.median(a)"
   ]
  },
  {
   "cell_type": "markdown",
   "metadata": {},
   "source": [
    "#### 2.3 numpy中的梯度函数\n",
    "\n",
    "函数|说明\n",
    ":---|:---\n",
    "np.gradient(f)|计算数组f中元素的梯度，当f为多维时，返回每个维度的梯度\n",
    "\n",
    "![](grad1.png)\n",
    "\n",
    "![](grad2.png)\n",
    "\n",
    "![](grad3.png)\n",
    "\n",
    "![](grad4.png)\n",
    "\n",
    "![](grad5.png)\n",
    "\n",
    "梯度：连续值之间的变化率，即斜率。 梯度有助于我们发现图像的边缘。\n",
    "\n",
    "XY坐标轴连续三个X坐标对应的Y轴值：a,b,c, 其中，b的梯度是：(c-a)/2"
   ]
  },
  {
   "cell_type": "code",
   "execution_count": 44,
   "metadata": {},
   "outputs": [
    {
     "data": {
      "text/plain": [
       "array([6, 0, 2, 3, 3])"
      ]
     },
     "execution_count": 44,
     "metadata": {},
     "output_type": "execute_result"
    }
   ],
   "source": [
    "a = np.random.randint(0, 20, (5))\n",
    "\n",
    "a"
   ]
  },
  {
   "cell_type": "code",
   "execution_count": 45,
   "metadata": {},
   "outputs": [
    {
     "data": {
      "text/plain": [
       "array([-6. , -2. ,  1.5,  0.5,  0. ])"
      ]
     },
     "execution_count": 45,
     "metadata": {},
     "output_type": "execute_result"
    }
   ],
   "source": [
    "np.gradient(a)"
   ]
  },
  {
   "cell_type": "code",
   "execution_count": 46,
   "metadata": {},
   "outputs": [
    {
     "data": {
      "text/plain": [
       "array([18, 13, 11, 16, 13])"
      ]
     },
     "execution_count": 46,
     "metadata": {},
     "output_type": "execute_result"
    }
   ],
   "source": [
    "b = np.random.randint(0, 20, (5))\n",
    "\n",
    "b"
   ]
  },
  {
   "cell_type": "code",
   "execution_count": 47,
   "metadata": {},
   "outputs": [
    {
     "data": {
      "text/plain": [
       "array([-5. , -3.5,  1.5,  1. , -3. ])"
      ]
     },
     "execution_count": 47,
     "metadata": {},
     "output_type": "execute_result"
    }
   ],
   "source": [
    "np.gradient(b)"
   ]
  },
  {
   "cell_type": "code",
   "execution_count": 48,
   "metadata": {},
   "outputs": [
    {
     "data": {
      "text/plain": [
       "array([[11, 49, 22, 37, 11],\n",
       "       [21, 33, 31, 43, 24],\n",
       "       [32, 37,  9, 40, 37]])"
      ]
     },
     "execution_count": 48,
     "metadata": {},
     "output_type": "execute_result"
    }
   ],
   "source": [
    "c = np.random.randint(0, 50, (3, 5))\n",
    "\n",
    "c"
   ]
  },
  {
   "cell_type": "code",
   "execution_count": 49,
   "metadata": {},
   "outputs": [
    {
     "data": {
      "text/plain": [
       "[array([[ 10. , -16. ,   9. ,   6. ,  13. ],\n",
       "        [ 10.5,  -6. ,  -6.5,   1.5,  13. ],\n",
       "        [ 11. ,   4. , -22. ,  -3. ,  13. ]]),\n",
       " array([[ 38. ,   5.5,  -6. ,  -5.5, -26. ],\n",
       "        [ 12. ,   5. ,   5. ,  -3.5, -19. ],\n",
       "        [  5. , -11.5,   1.5,  14. ,  -3. ]])]"
      ]
     },
     "execution_count": 49,
     "metadata": {},
     "output_type": "execute_result"
    }
   ],
   "source": [
    "np.gradient(c)"
   ]
  },
  {
   "cell_type": "markdown",
   "metadata": {},
   "source": [
    "## 第四部分 Numpy实例\n",
    "\n",
    "初学Numpy库，能够直接上手的实例并不多，最常见的上手案例是对图像的操作。\n",
    "\n",
    "图像操作需要用到PIL库，这是一个具有强大图像处理能力的第三方库。\n",
    "\n",
    "Anaconda已经安装该库，没有使用anaconda的同学可以通过pip安装。\n",
    "\n",
    "```\n",
    "pip install pillow\n",
    "```\n",
    "\n",
    "在这里，大家不需要深入学习PIL的内部，只需要使用PIL的Image子库接口打开图片，解析为ndarray，就可以使用Numpy来进行操作。\n",
    "\n",
    "图像一般使用RGB色彩模式，图像是一个由像素组成的二维矩阵，每个元素是一个RGB值（R, G, B），也就是一个 m * n * 3 的ndarray\n",
    "\n",
    "![](cat.jpg)"
   ]
  },
  {
   "cell_type": "code",
   "execution_count": null,
   "metadata": {},
   "outputs": [],
   "source": [
    "from PIL import Image\n",
    "import numpy as np\n",
    "\n",
    "im = np.array(Image.open('cat.jpg'))\n",
    "\n",
    "print(im.shape, im.dtype)\n",
    "print(im)"
   ]
  },
  {
   "cell_type": "markdown",
   "metadata": {},
   "source": [
    "通过改变ndarray中元素的数值，我们可以对图像实现各种各样的操作,修改后保存为新的文件就可改变图像。\n",
    "\n",
    "当然，如果要实现各种高级的图像变换功能，除了需要了解数据处理方面的知识，还要懂得一些计算机图像理论，譬如不同图像效果的视觉特征和数值特征，灰度变化与人类视觉的关系等。"
   ]
  },
  {
   "cell_type": "code",
   "execution_count": 1,
   "metadata": {},
   "outputs": [],
   "source": [
    "from PIL import Image\n",
    "import numpy as np\n",
    "\n",
    "a = np.asarray(Image.open('./cat.jpg').convert('L')).astype('float')\n",
    "\n",
    "depth = 10.            # (0-100)\n",
    "grad = np.gradient(a)  #取图像灰度的梯度值\n",
    "grad_x, grad_y = grad  #分别取横纵图像梯度值\n",
    "grad_x = grad_x*depth/100.\n",
    "grad_y = grad_y*depth/100.\n",
    "A = np.sqrt(grad_x**2 + grad_y**2 + 1.)\n",
    "uni_x = grad_x/A\n",
    "uni_y = grad_y/A\n",
    "uni_z = 1./A\n",
    "\n",
    "vec_el = np.pi/2.2     # 光源的俯视角度，弧度值\n",
    "vec_az = np.pi/4.      # 光源的方位角度，弧度值\n",
    "dx = np.cos(vec_el)*np.cos(vec_az) #光源对x 轴的影响\n",
    "dy = np.cos(vec_el)*np.sin(vec_az) #光源对y 轴的影响\n",
    "dz = np.sin(vec_el)                #光源对z 轴的影响\n",
    "\n",
    "b = 255*(dx*uni_x + dy*uni_y + dz*uni_z)  #光源归一化\n",
    "b = b.clip(0,255)\n",
    "\n",
    "im = Image.fromarray(b.astype('uint8'))   #重构图像\n",
    "im.save('./catHD.jpg')"
   ]
  },
  {
   "cell_type": "markdown",
   "metadata": {},
   "source": [
    "![](catHD.jpg)"
   ]
  },
  {
   "cell_type": "code",
   "execution_count": 3,
   "metadata": {},
   "outputs": [],
   "source": [
    "from PIL import Image\n",
    "import numpy as np\n",
    "\n",
    "a = np.array(Image.open('cat.jpg'))\n",
    "\n",
    "b = np.random.randn(425, 640, 3)\n",
    "\n",
    "b = 10 * np.sign(b)\n",
    "\n",
    "a = a + b\n",
    "\n",
    "im = Image.fromarray(a.astype('uint8'))   #重构图像\n",
    "\n",
    "im.save('./cat_2.jpg')"
   ]
  },
  {
   "cell_type": "markdown",
   "metadata": {},
   "source": [
    "![](cat_2.jpg)"
   ]
  },
  {
   "cell_type": "markdown",
   "metadata": {},
   "source": [
    "## 第五部分 Pandas ##\n",
    "\n",
    "\n",
    "[Pandas](https://pandas.pydata.org/)是SciPy生态下的重要Python第三方库。\n",
    "\n",
    "[发展简史](https://pandas.pydata.org/about/)\n",
    "\n",
    "![](https://pandas.pydata.org/static/img/pandas.svg)\n",
    "\n",
    "#### Library Highlights\n",
    "\n",
    "- A fast and efficient **DataFrame** object for data manipulation with integrated indexing;\n",
    "\n",
    "- Tools for **reading and writing data** between in-memory data structures and different formats: CSV and text files, Microsoft Excel, SQL databases, and the fast HDF5 format;\n",
    "\n",
    "- Intelligent **data alignment** and integrated handling of **missing data**: gain automatic label-based alignment in computations and easily manipulate messy data into an orderly form;\n",
    "\n",
    "- Flexible **reshaping** and pivoting of data sets;\n",
    "\n",
    "- Intelligent label-based **slicing**, **fancy indexing**, and **subsetting** of large data sets;\n",
    "\n",
    "- Columns can be inserted and deleted from data structures for **size mutability**;\n",
    "\n",
    "- Aggregating or transforming data with a powerful **group by** engine allowing split-apply-combine operations on data sets;\n",
    "\n",
    "- High performance **merging and joining** of data sets;\n",
    "\n",
    "- **Hierarchical axis indexing** provides an intuitive way of working with high-dimensional data in a lower-dimensional data structure;\n",
    "\n",
    "- **Time series**-functionality: date range generation and frequency conversion, moving window statistics, date shifting and lagging. Even create domain-specific time offsets and join time series without losing data;\n",
    "\n",
    "- Highly **optimized for performance**, with critical code paths written in Cython or C.\n",
    "\n",
    "- Python with pandas is in use in a wide variety of **academic and commercial** domains, including Finance, Neuroscience, Economics, Statistics, Advertising, Web Analytics, and more."
   ]
  },
  {
   "cell_type": "code",
   "execution_count": 5,
   "metadata": {},
   "outputs": [],
   "source": [
    "import numpy as np\n",
    "import pandas as pd"
   ]
  },
  {
   "cell_type": "markdown",
   "metadata": {},
   "source": [
    "Pandas基于NumPy实现，常与Numpy和Matplotlib一同使用。\n",
    "\n",
    "Pandas下有两个重要的数据类型，Series 、DataFrame，并支持基于Series和DataFrame的各类操作，包括基本操作，运算操作，特征类操作，关联类操作。\n",
    "\n",
    "NumPy|Pandas\n",
    ":--|:--\n",
    "基础数据类型|基于np.array的扩展数据类型 Series 、DataFrame\n",
    "关注数据的结构表达（即数据之间的维度表达）|关注数据的应用表达（如何提取、运算）\n",
    "维度：数据之间|数据与索引间关系"
   ]
  },
  {
   "cell_type": "markdown",
   "metadata": {},
   "source": [
    "## 第六部分 Series类型\n",
    "\n",
    "Series类型由一组数据及与之相关的数据索引组成。\n",
    "\n",
    "索引|————|数据\n",
    ":--|-:-|--:\n",
    "index_0|————|data_a\n",
    "index_1|————|data_b\n",
    "index_2|————|data_c\n",
    "index_3|————|data_d\n",
    "\n"
   ]
  },
  {
   "cell_type": "code",
   "execution_count": 10,
   "metadata": {},
   "outputs": [],
   "source": [
    "from pandas import Series"
   ]
  },
  {
   "cell_type": "markdown",
   "metadata": {},
   "source": [
    "### 1. 基本概念\n",
    "\n",
    "- Series可看成一个定长的有序字典，通过shape,size,index,values可得到其属性\n",
    "\n",
    "- 可通过head(),tail()快速查看其对象样式\n",
    "\n",
    "- 当索引没有对应值时，显示NaN\n",
    "\n",
    "- 检测缺失数据：pd.isnull(),pd.notnull或自带的isnull(),notnull()\n",
    "\n",
    "- Series对象本身及其索引都有一个name值"
   ]
  },
  {
   "cell_type": "markdown",
   "metadata": {},
   "source": [
    "### 2. Series类型的创建\n",
    "\n",
    "Series类型可以由如下类型创建(数据源的维度必须是一维）：\n",
    "\n",
    "#### 2.1 列表"
   ]
  },
  {
   "cell_type": "code",
   "execution_count": 11,
   "metadata": {},
   "outputs": [
    {
     "name": "stdout",
     "output_type": "stream",
     "text": [
      "shape:  (5,)\n",
      "size:  5\n",
      "index:  RangeIndex(start=0, stop=5, step=1)\n",
      "values:  [1 2 3 4 5]\n",
      "name:  None\n"
     ]
    },
    {
     "data": {
      "text/plain": [
       "0    1\n",
       "1    2\n",
       "2    3\n",
       "3    4\n",
       "4    5\n",
       "dtype: int64"
      ]
     },
     "execution_count": 11,
     "metadata": {},
     "output_type": "execute_result"
    }
   ],
   "source": [
    "a = Series([1, 2, 3, 4, 5])  #自动索引和Numpy中的数据类型\n",
    "print('shape: ', a.shape)\n",
    "print('size: ', a.size)\n",
    "print('index: ', a.index)\n",
    "print('values: ', a.values)\n",
    "print('name: ', a.name)\n",
    "a"
   ]
  },
  {
   "cell_type": "code",
   "execution_count": 12,
   "metadata": {},
   "outputs": [
    {
     "name": "stdout",
     "output_type": "stream",
     "text": [
      "shape:  (5,)\n",
      "size:  5\n",
      "index:  Index(['Python', 'Java', 'C', 'C#', 'Ruby'], dtype='object')\n",
      "values:  [90 89 86 84 82]\n",
      "name:  None\n"
     ]
    }
   ],
   "source": [
    "b = Series([90,89,86,84, 82],index=['Python','Java','C','C#', 'Ruby']) #自定义索引\n",
    "print('shape: ', b.shape)\n",
    "print('size: ', b.size)\n",
    "print('index: ', b.index)\n",
    "print('values: ', b.values)\n",
    "print('name: ', b.name)"
   ]
  },
  {
   "cell_type": "markdown",
   "metadata": {},
   "source": [
    "#### 2.2 标量值"
   ]
  },
  {
   "cell_type": "code",
   "execution_count": 13,
   "metadata": {},
   "outputs": [
    {
     "data": {
      "text/plain": [
       "a    25\n",
       "b    25\n",
       "c    25\n",
       "dtype: int64"
      ]
     },
     "execution_count": 13,
     "metadata": {},
     "output_type": "execute_result"
    }
   ],
   "source": [
    "s = Series(25,index=['a','b','c'])  #通过标量值创建，不能省略index,index表达了Series类型的尺寸\n",
    "s"
   ]
  },
  {
   "cell_type": "markdown",
   "metadata": {},
   "source": [
    "#### 2.3 字典"
   ]
  },
  {
   "cell_type": "code",
   "execution_count": 14,
   "metadata": {},
   "outputs": [
    {
     "data": {
      "text/plain": [
       "a    9\n",
       "b    8\n",
       "c    7\n",
       "dtype: int64"
      ]
     },
     "execution_count": 14,
     "metadata": {},
     "output_type": "execute_result"
    }
   ],
   "source": [
    "d = Series({'a':9,'b':8,'c':7})# 用字典创建，键变为原来值的索引\n",
    "d"
   ]
  },
  {
   "cell_type": "code",
   "execution_count": 15,
   "metadata": {},
   "outputs": [
    {
     "data": {
      "text/plain": [
       "c    7.0\n",
       "a    9.0\n",
       "b    8.0\n",
       "d    NaN\n",
       "dtype: float64"
      ]
     },
     "execution_count": 15,
     "metadata": {},
     "output_type": "execute_result"
    }
   ],
   "source": [
    "e = Series({'a':9,'b':8,'c':7},index=['c','a','b','d'])#通过index指定Series结构\n",
    "e"
   ]
  },
  {
   "cell_type": "markdown",
   "metadata": {},
   "source": [
    "#### 2.4 ndarray"
   ]
  },
  {
   "cell_type": "code",
   "execution_count": 16,
   "metadata": {},
   "outputs": [
    {
     "data": {
      "text/plain": [
       "0    0\n",
       "1    1\n",
       "2    2\n",
       "3    3\n",
       "4    4\n",
       "dtype: int32"
      ]
     },
     "execution_count": 16,
     "metadata": {},
     "output_type": "execute_result"
    }
   ],
   "source": [
    "n = Series(np.arange(5))\n",
    "n"
   ]
  },
  {
   "cell_type": "code",
   "execution_count": 17,
   "metadata": {},
   "outputs": [
    {
     "data": {
      "text/plain": [
       "9    0\n",
       "8    1\n",
       "7    2\n",
       "6    3\n",
       "5    4\n",
       "dtype: int32"
      ]
     },
     "execution_count": 17,
     "metadata": {},
     "output_type": "execute_result"
    }
   ],
   "source": [
    "m = Series(np.arange(5),index=np.arange(9,4,-1))\n",
    "m"
   ]
  },
  {
   "cell_type": "markdown",
   "metadata": {},
   "source": [
    "#### 2.5 其他函数\n",
    "\n",
    "如range()"
   ]
  },
  {
   "cell_type": "code",
   "execution_count": 18,
   "metadata": {},
   "outputs": [
    {
     "data": {
      "text/plain": [
       "9    0\n",
       "8    1\n",
       "7    2\n",
       "6    3\n",
       "5    4\n",
       "dtype: int64"
      ]
     },
     "execution_count": 18,
     "metadata": {},
     "output_type": "execute_result"
    }
   ],
   "source": [
    "o = Series(range(5),index=np.arange(9,4,-1))\n",
    "o"
   ]
  },
  {
   "cell_type": "markdown",
   "metadata": {},
   "source": [
    "### 3. Series类型的基本操作\n",
    "\n",
    "Series类型包括index和values(ndarray)两部分，其操作类似于np.ndarray类型和Python字典类型。\n",
    "\n",
    "Series的基本操作包括索引、切片等。\n",
    "\n",
    "#### 3.1 索引"
   ]
  },
  {
   "cell_type": "code",
   "execution_count": 19,
   "metadata": {},
   "outputs": [
    {
     "data": {
      "text/plain": [
       "Python    90\n",
       "Java      89\n",
       "C         86\n",
       "C#        84\n",
       "Ruby      82\n",
       "dtype: int64"
      ]
     },
     "execution_count": 19,
     "metadata": {},
     "output_type": "execute_result"
    }
   ],
   "source": [
    "b = Series([90,89,86,84, 82],index=['Python','Java','C','C#', 'Ruby']) #自定义索引\n",
    "b"
   ]
  },
  {
   "cell_type": "code",
   "execution_count": 20,
   "metadata": {},
   "outputs": [
    {
     "data": {
      "text/plain": [
       "Index(['Python', 'Java', 'C', 'C#', 'Ruby'], dtype='object')"
      ]
     },
     "execution_count": 20,
     "metadata": {},
     "output_type": "execute_result"
    }
   ],
   "source": [
    "b.index #获得索引"
   ]
  },
  {
   "cell_type": "code",
   "execution_count": 21,
   "metadata": {},
   "outputs": [
    {
     "data": {
      "text/plain": [
       "array([90, 89, 86, 84, 82], dtype=int64)"
      ]
     },
     "execution_count": 21,
     "metadata": {},
     "output_type": "execute_result"
    }
   ],
   "source": [
    "b.values #获得数据"
   ]
  },
  {
   "cell_type": "markdown",
   "metadata": {},
   "source": [
    "Series类型实际上是将Numpy中的ndarray类型作为保留值，并在内部新建立index类型。\n",
    "\n",
    "index类型和numpy中的ndarray类型结合到一起就是Series类型。"
   ]
  },
  {
   "cell_type": "code",
   "execution_count": 23,
   "metadata": {},
   "outputs": [
    {
     "data": {
      "text/plain": [
       "86"
      ]
     },
     "execution_count": 23,
     "metadata": {},
     "output_type": "execute_result"
    }
   ],
   "source": [
    "b['C'] "
   ]
  },
  {
   "cell_type": "code",
   "execution_count": 24,
   "metadata": {},
   "outputs": [
    {
     "data": {
      "text/plain": [
       "86"
      ]
     },
     "execution_count": 24,
     "metadata": {},
     "output_type": "execute_result"
    }
   ],
   "source": [
    "b[2]"
   ]
  },
  {
   "cell_type": "markdown",
   "metadata": {},
   "source": [
    "**两套索引**\n",
    "\n",
    "虽然用户自定义了索引，但Series自动生成的索引也存在。两套索引并存但不能混用。\n",
    "\n",
    "自动索引|自定义索引|值\n",
    ":--|:--|:--\n",
    "0|'Python'|90\n",
    "1|'Java'|89\n",
    "2|'C'|86\n",
    "3|'C#'|84\n",
    "4|'Ruby'|82"
   ]
  },
  {
   "cell_type": "code",
   "execution_count": 25,
   "metadata": {},
   "outputs": [
    {
     "name": "stderr",
     "output_type": "stream",
     "text": [
      "d:\\Anaconda3\\lib\\site-packages\\pandas\\core\\series.py:1152: FutureWarning: \n",
      "Passing list-likes to .loc or [] with any missing label will raise\n",
      "KeyError in the future, you can use .reindex() as an alternative.\n",
      "\n",
      "See the documentation here:\n",
      "https://pandas.pydata.org/pandas-docs/stable/user_guide/indexing.html#deprecate-loc-reindex-listlike\n",
      "  return self.loc[key]\n"
     ]
    },
    {
     "data": {
      "text/plain": [
       "Python    90.0\n",
       "C         86.0\n",
       "4          NaN\n",
       "dtype: float64"
      ]
     },
     "execution_count": 25,
     "metadata": {},
     "output_type": "execute_result"
    }
   ],
   "source": [
    "b[['Python', 'C', 4]]  #多个索引要放在一个列表里"
   ]
  },
  {
   "cell_type": "code",
   "execution_count": 26,
   "metadata": {},
   "outputs": [
    {
     "data": {
      "text/plain": [
       "C#      84\n",
       "Java    89\n",
       "C       86\n",
       "dtype: int64"
      ]
     },
     "execution_count": 26,
     "metadata": {},
     "output_type": "execute_result"
    }
   ],
   "source": [
    "b[['C#', 'Java', 'C']]"
   ]
  },
  {
   "cell_type": "markdown",
   "metadata": {},
   "source": [
    "Series类型的操作类似ndarray类型\n",
    "\n",
    "如：\n",
    "\n",
    "    1. 索引方法相同，采用[]；\n",
    "    2. NumPy中运算和操作可用于Series类型。\n",
    "    3. 可以通过自定义索引的列表进行切片。\n",
    "    4. 可以通过自动索引进行切片，如果存在自定义索引，则一同被切片。切片后仍然是Series类型"
   ]
  },
  {
   "cell_type": "code",
   "execution_count": 28,
   "metadata": {},
   "outputs": [
    {
     "data": {
      "text/plain": [
       "Python    90\n",
       "Java      89\n",
       "C         86\n",
       "C#        84\n",
       "Ruby      82\n",
       "dtype: int64"
      ]
     },
     "execution_count": 28,
     "metadata": {},
     "output_type": "execute_result"
    }
   ],
   "source": [
    "b = Series([90,89,86,84, 82],index=['Python','Java','C','C#', 'Ruby']) #自定义索引\n",
    "b"
   ]
  },
  {
   "cell_type": "code",
   "execution_count": 29,
   "metadata": {},
   "outputs": [
    {
     "data": {
      "text/plain": [
       "84"
      ]
     },
     "execution_count": 29,
     "metadata": {},
     "output_type": "execute_result"
    }
   ],
   "source": [
    "b[3]"
   ]
  },
  {
   "cell_type": "code",
   "execution_count": 30,
   "metadata": {},
   "outputs": [
    {
     "data": {
      "text/plain": [
       "Python    90\n",
       "Java      89\n",
       "C         86\n",
       "dtype: int64"
      ]
     },
     "execution_count": 30,
     "metadata": {},
     "output_type": "execute_result"
    }
   ],
   "source": [
    "b[:3]"
   ]
  },
  {
   "cell_type": "code",
   "execution_count": 31,
   "metadata": {},
   "outputs": [
    {
     "data": {
      "text/plain": [
       "Python    90\n",
       "Java      89\n",
       "dtype: int64"
      ]
     },
     "execution_count": 31,
     "metadata": {},
     "output_type": "execute_result"
    }
   ],
   "source": [
    "b[b>b.median()]    #中位数为86"
   ]
  },
  {
   "cell_type": "code",
   "execution_count": 32,
   "metadata": {},
   "outputs": [
    {
     "data": {
      "text/plain": [
       "Python    1.220403e+39\n",
       "Java      4.489613e+38\n",
       "C         2.235247e+37\n",
       "C#        3.025077e+36\n",
       "Ruby      4.093997e+35\n",
       "dtype: float64"
      ]
     },
     "execution_count": 32,
     "metadata": {},
     "output_type": "execute_result"
    }
   ],
   "source": [
    "np.exp(b)"
   ]
  },
  {
   "cell_type": "markdown",
   "metadata": {},
   "source": [
    "Series类型的操作与Python字典类型也有类似之处\n",
    "\n",
    "如：\n",
    "\n",
    "    1. 通过自定义索引访问\n",
    "    2. 保留字in操作。不会判断自动索引，只会判断自定义索引\n",
    "    3. 使用.get()方法"
   ]
  },
  {
   "cell_type": "code",
   "execution_count": 33,
   "metadata": {},
   "outputs": [
    {
     "data": {
      "text/plain": [
       "Python    90\n",
       "Java      89\n",
       "C         86\n",
       "C#        84\n",
       "Ruby      82\n",
       "dtype: int64"
      ]
     },
     "execution_count": 33,
     "metadata": {},
     "output_type": "execute_result"
    }
   ],
   "source": [
    "b = Series([90,89,86,84, 82],index=['Python','Java','C','C#', 'Ruby']) #自定义索引\n",
    "b"
   ]
  },
  {
   "cell_type": "code",
   "execution_count": 34,
   "metadata": {},
   "outputs": [
    {
     "data": {
      "text/plain": [
       "86"
      ]
     },
     "execution_count": 34,
     "metadata": {},
     "output_type": "execute_result"
    }
   ],
   "source": [
    "b['C']"
   ]
  },
  {
   "cell_type": "code",
   "execution_count": 35,
   "metadata": {},
   "outputs": [
    {
     "data": {
      "text/plain": [
       "True"
      ]
     },
     "execution_count": 35,
     "metadata": {},
     "output_type": "execute_result"
    }
   ],
   "source": [
    "'Java' in b  #'c'是否是b中索引的一部分"
   ]
  },
  {
   "cell_type": "code",
   "execution_count": 36,
   "metadata": {},
   "outputs": [
    {
     "data": {
      "text/plain": [
       "False"
      ]
     },
     "execution_count": 36,
     "metadata": {},
     "output_type": "execute_result"
    }
   ],
   "source": [
    "0 in b # 判断 0 是否在用户自定义索引中"
   ]
  },
  {
   "cell_type": "code",
   "execution_count": 37,
   "metadata": {},
   "outputs": [
    {
     "data": {
      "text/plain": [
       "100"
      ]
     },
     "execution_count": 37,
     "metadata": {},
     "output_type": "execute_result"
    }
   ],
   "source": [
    "b.get('Go',100) # 从b中提取索引‘f’ 对应的值，如果不存在就返回100"
   ]
  },
  {
   "cell_type": "markdown",
   "metadata": {},
   "source": [
    "#### 3.2 对齐\n",
    "\n",
    "数据对齐是数据清洗的重要过程，可以按索引对齐进行运算，如果没对齐的位置则补NaN，最后也可以填充NaN\n",
    "\n",
    "实现方式：Series+Series\n",
    "\n",
    "Series类型在运算中会自动对齐不同索引的数据，这种运算更加精确，更不容易出错。"
   ]
  },
  {
   "cell_type": "code",
   "execution_count": 39,
   "metadata": {},
   "outputs": [
    {
     "name": "stdout",
     "output_type": "stream",
     "text": [
      "s1: \n",
      "0    10\n",
      "1    11\n",
      "2    12\n",
      "3    13\n",
      "4    14\n",
      "5    15\n",
      "6    16\n",
      "7    17\n",
      "8    18\n",
      "9    19\n",
      "dtype: int64\n",
      "\n",
      "s2: \n",
      "0    20\n",
      "1    21\n",
      "2    22\n",
      "3    23\n",
      "4    24\n",
      "dtype: int64\n"
     ]
    }
   ],
   "source": [
    "s1 = Series(range(10, 20), index = range(10))\n",
    "s2 = Series(range(20, 25), index = range(5))\n",
    "\n",
    "print('s1: ')\n",
    "print(s1)\n",
    "print()\n",
    "print('s2: ')\n",
    "print(s2)"
   ]
  },
  {
   "cell_type": "code",
   "execution_count": 40,
   "metadata": {},
   "outputs": [
    {
     "data": {
      "text/plain": [
       "0    30.0\n",
       "1    32.0\n",
       "2    34.0\n",
       "3    36.0\n",
       "4    38.0\n",
       "5     NaN\n",
       "6     NaN\n",
       "7     NaN\n",
       "8     NaN\n",
       "9     NaN\n",
       "dtype: float64"
      ]
     },
     "execution_count": 40,
     "metadata": {},
     "output_type": "execute_result"
    }
   ],
   "source": [
    "s1 + s2"
   ]
  },
  {
   "cell_type": "markdown",
   "metadata": {},
   "source": [
    "#### 3.3 Name属性\n",
    "\n",
    "Series对象和索引都可以有一个名字，存在属性.name中"
   ]
  },
  {
   "cell_type": "code",
   "execution_count": 41,
   "metadata": {},
   "outputs": [
    {
     "data": {
      "text/plain": [
       "索引列\n",
       "Python    90\n",
       "Java      89\n",
       "C         86\n",
       "C#        84\n",
       "Ruby      82\n",
       "Name: 编程语言评分, dtype: int64"
      ]
     },
     "execution_count": 41,
     "metadata": {},
     "output_type": "execute_result"
    }
   ],
   "source": [
    "b.name='编程语言评分'  #可以认为是对象的名字，也可认为是对象对应值的名字\n",
    "b.index.name='索引列'\n",
    "b"
   ]
  },
  {
   "cell_type": "markdown",
   "metadata": {},
   "source": [
    "#### 3.4 Series类型的修改\n",
    "\n",
    "Series对象可以随时修改并即刻生效"
   ]
  },
  {
   "cell_type": "code",
   "execution_count": 42,
   "metadata": {},
   "outputs": [
    {
     "data": {
      "text/plain": [
       "索引列\n",
       "Python    15\n",
       "Java      89\n",
       "C         86\n",
       "C#        84\n",
       "Ruby      82\n",
       "Name: Series, dtype: int64"
      ]
     },
     "execution_count": 42,
     "metadata": {},
     "output_type": "execute_result"
    }
   ],
   "source": [
    "b['Python']=15\n",
    "b.name='Series'\n",
    "b"
   ]
  },
  {
   "cell_type": "code",
   "execution_count": 43,
   "metadata": {},
   "outputs": [
    {
     "data": {
      "text/plain": [
       "索引列\n",
       "Python    15\n",
       "Java      89\n",
       "C         20\n",
       "C#        20\n",
       "Ruby      82\n",
       "Name: New series, dtype: int64"
      ]
     },
     "execution_count": 43,
     "metadata": {},
     "output_type": "execute_result"
    }
   ],
   "source": [
    "b.name='New series'\n",
    "b['C','C#']=20\n",
    "b"
   ]
  },
  {
   "cell_type": "markdown",
   "metadata": {},
   "source": [
    "## 第六部分 DataFrame类型\n",
    "\n",
    "### 1. 基础知识\n",
    "\n",
    "Series是Pandas库中的一维数据类型，DataFrame是Pandas库中的二维数据类型，是由共用相同索引的一组列组成，即索引加多列数据构成。\n",
    "\n",
    "![](https://img-blog.csdnimg.cn/2019090815143997.png)\n",
    "\n",
    "DataFrame是一个类似于关系型数据库的表格数据类型，每列值类型可以不同。\n",
    "\n",
    "DataFrame既可以做行索引，也可以做列索引。\n",
    "\n",
    "DataFrame常用于表达二维数据，也可以表达多维数据。\n",
    "\n",
    "### 2. DataFrame类型的创建\n",
    "\n",
    "#### 2.1 可以从二维ndarray对象创建"
   ]
  },
  {
   "cell_type": "code",
   "execution_count": 45,
   "metadata": {},
   "outputs": [],
   "source": [
    "from pandas import DataFrame"
   ]
  },
  {
   "cell_type": "code",
   "execution_count": 46,
   "metadata": {},
   "outputs": [
    {
     "data": {
      "text/html": [
       "<div>\n",
       "<style scoped>\n",
       "    .dataframe tbody tr th:only-of-type {\n",
       "        vertical-align: middle;\n",
       "    }\n",
       "\n",
       "    .dataframe tbody tr th {\n",
       "        vertical-align: top;\n",
       "    }\n",
       "\n",
       "    .dataframe thead th {\n",
       "        text-align: right;\n",
       "    }\n",
       "</style>\n",
       "<table border=\"1\" class=\"dataframe\">\n",
       "  <thead>\n",
       "    <tr style=\"text-align: right;\">\n",
       "      <th></th>\n",
       "      <th>0</th>\n",
       "      <th>1</th>\n",
       "      <th>2</th>\n",
       "      <th>3</th>\n",
       "      <th>4</th>\n",
       "    </tr>\n",
       "  </thead>\n",
       "  <tbody>\n",
       "    <tr>\n",
       "      <td>0</td>\n",
       "      <td>0</td>\n",
       "      <td>1</td>\n",
       "      <td>2</td>\n",
       "      <td>3</td>\n",
       "      <td>4</td>\n",
       "    </tr>\n",
       "    <tr>\n",
       "      <td>1</td>\n",
       "      <td>5</td>\n",
       "      <td>6</td>\n",
       "      <td>7</td>\n",
       "      <td>8</td>\n",
       "      <td>9</td>\n",
       "    </tr>\n",
       "  </tbody>\n",
       "</table>\n",
       "</div>"
      ],
      "text/plain": [
       "   0  1  2  3  4\n",
       "0  0  1  2  3  4\n",
       "1  5  6  7  8  9"
      ]
     },
     "execution_count": 46,
     "metadata": {},
     "output_type": "execute_result"
    }
   ],
   "source": [
    "d = DataFrame(np.arange(10).reshape(2,5))\n",
    "d  #可以看出DataFrame是原始数据增加横向和纵向的索引构成。"
   ]
  },
  {
   "cell_type": "markdown",
   "metadata": {},
   "source": [
    "#### 2.2 可以从一维ndarray对象字典创建"
   ]
  },
  {
   "cell_type": "code",
   "execution_count": 47,
   "metadata": {},
   "outputs": [
    {
     "data": {
      "text/html": [
       "<div>\n",
       "<style scoped>\n",
       "    .dataframe tbody tr th:only-of-type {\n",
       "        vertical-align: middle;\n",
       "    }\n",
       "\n",
       "    .dataframe tbody tr th {\n",
       "        vertical-align: top;\n",
       "    }\n",
       "\n",
       "    .dataframe thead th {\n",
       "        text-align: right;\n",
       "    }\n",
       "</style>\n",
       "<table border=\"1\" class=\"dataframe\">\n",
       "  <thead>\n",
       "    <tr style=\"text-align: right;\">\n",
       "      <th></th>\n",
       "      <th>one</th>\n",
       "      <th>two</th>\n",
       "    </tr>\n",
       "  </thead>\n",
       "  <tbody>\n",
       "    <tr>\n",
       "      <td>a</td>\n",
       "      <td>1.0</td>\n",
       "      <td>9</td>\n",
       "    </tr>\n",
       "    <tr>\n",
       "      <td>b</td>\n",
       "      <td>2.0</td>\n",
       "      <td>8</td>\n",
       "    </tr>\n",
       "    <tr>\n",
       "      <td>c</td>\n",
       "      <td>3.0</td>\n",
       "      <td>7</td>\n",
       "    </tr>\n",
       "    <tr>\n",
       "      <td>d</td>\n",
       "      <td>NaN</td>\n",
       "      <td>6</td>\n",
       "    </tr>\n",
       "  </tbody>\n",
       "</table>\n",
       "</div>"
      ],
      "text/plain": [
       "   one  two\n",
       "a  1.0    9\n",
       "b  2.0    8\n",
       "c  3.0    7\n",
       "d  NaN    6"
      ]
     },
     "execution_count": 47,
     "metadata": {},
     "output_type": "execute_result"
    }
   ],
   "source": [
    "dt = {'one':pd.Series([1,2,3],index=['a','b','c']),\n",
    "    'two':pd.Series([9,8,7,6],index=['a','b','c','d'])}\n",
    "d = DataFrame(dt)\n",
    "d     #字典中的键自动成为了列索引"
   ]
  },
  {
   "cell_type": "code",
   "execution_count": 48,
   "metadata": {},
   "outputs": [
    {
     "data": {
      "text/html": [
       "<div>\n",
       "<style scoped>\n",
       "    .dataframe tbody tr th:only-of-type {\n",
       "        vertical-align: middle;\n",
       "    }\n",
       "\n",
       "    .dataframe tbody tr th {\n",
       "        vertical-align: top;\n",
       "    }\n",
       "\n",
       "    .dataframe thead th {\n",
       "        text-align: right;\n",
       "    }\n",
       "</style>\n",
       "<table border=\"1\" class=\"dataframe\">\n",
       "  <thead>\n",
       "    <tr style=\"text-align: right;\">\n",
       "      <th></th>\n",
       "      <th>two</th>\n",
       "      <th>three</th>\n",
       "    </tr>\n",
       "  </thead>\n",
       "  <tbody>\n",
       "    <tr>\n",
       "      <td>b</td>\n",
       "      <td>8</td>\n",
       "      <td>NaN</td>\n",
       "    </tr>\n",
       "    <tr>\n",
       "      <td>c</td>\n",
       "      <td>7</td>\n",
       "      <td>NaN</td>\n",
       "    </tr>\n",
       "    <tr>\n",
       "      <td>d</td>\n",
       "      <td>6</td>\n",
       "      <td>NaN</td>\n",
       "    </tr>\n",
       "  </tbody>\n",
       "</table>\n",
       "</div>"
      ],
      "text/plain": [
       "   two three\n",
       "b    8   NaN\n",
       "c    7   NaN\n",
       "d    6   NaN"
      ]
     },
     "execution_count": 48,
     "metadata": {},
     "output_type": "execute_result"
    }
   ],
   "source": [
    "DataFrame(dt,index=['b','c','d'],columns=['two','three']) #three列不存在，自动补齐"
   ]
  },
  {
   "cell_type": "markdown",
   "metadata": {},
   "source": [
    "#### 2.3 可以从列表类型字典创建"
   ]
  },
  {
   "cell_type": "code",
   "execution_count": 49,
   "metadata": {},
   "outputs": [
    {
     "data": {
      "text/html": [
       "<div>\n",
       "<style scoped>\n",
       "    .dataframe tbody tr th:only-of-type {\n",
       "        vertical-align: middle;\n",
       "    }\n",
       "\n",
       "    .dataframe tbody tr th {\n",
       "        vertical-align: top;\n",
       "    }\n",
       "\n",
       "    .dataframe thead th {\n",
       "        text-align: right;\n",
       "    }\n",
       "</style>\n",
       "<table border=\"1\" class=\"dataframe\">\n",
       "  <thead>\n",
       "    <tr style=\"text-align: right;\">\n",
       "      <th></th>\n",
       "      <th>one</th>\n",
       "      <th>two</th>\n",
       "    </tr>\n",
       "  </thead>\n",
       "  <tbody>\n",
       "    <tr>\n",
       "      <td>a</td>\n",
       "      <td>1</td>\n",
       "      <td>9</td>\n",
       "    </tr>\n",
       "    <tr>\n",
       "      <td>b</td>\n",
       "      <td>2</td>\n",
       "      <td>8</td>\n",
       "    </tr>\n",
       "    <tr>\n",
       "      <td>c</td>\n",
       "      <td>3</td>\n",
       "      <td>7</td>\n",
       "    </tr>\n",
       "    <tr>\n",
       "      <td>d</td>\n",
       "      <td>4</td>\n",
       "      <td>6</td>\n",
       "    </tr>\n",
       "  </tbody>\n",
       "</table>\n",
       "</div>"
      ],
      "text/plain": [
       "   one  two\n",
       "a    1    9\n",
       "b    2    8\n",
       "c    3    7\n",
       "d    4    6"
      ]
     },
     "execution_count": 49,
     "metadata": {},
     "output_type": "execute_result"
    }
   ],
   "source": [
    "d1 = {'one':[1,2,3,4],'two':[9,8,7,6]}\n",
    "d = DataFrame(d1,index = ['a','b','c','d'])\n",
    "d"
   ]
  },
  {
   "cell_type": "markdown",
   "metadata": {},
   "source": [
    "【例】新冠疫情数据"
   ]
  },
  {
   "cell_type": "code",
   "execution_count": 50,
   "metadata": {},
   "outputs": [
    {
     "data": {
      "text/html": [
       "<div>\n",
       "<style scoped>\n",
       "    .dataframe tbody tr th:only-of-type {\n",
       "        vertical-align: middle;\n",
       "    }\n",
       "\n",
       "    .dataframe tbody tr th {\n",
       "        vertical-align: top;\n",
       "    }\n",
       "\n",
       "    .dataframe thead th {\n",
       "        text-align: right;\n",
       "    }\n",
       "</style>\n",
       "<table border=\"1\" class=\"dataframe\">\n",
       "  <thead>\n",
       "    <tr style=\"text-align: right;\">\n",
       "      <th></th>\n",
       "      <th>疫情地区</th>\n",
       "      <th>新增</th>\n",
       "      <th>现有</th>\n",
       "      <th>累计</th>\n",
       "      <th>治愈</th>\n",
       "      <th>死亡</th>\n",
       "    </tr>\n",
       "  </thead>\n",
       "  <tbody>\n",
       "    <tr>\n",
       "      <td>c1</td>\n",
       "      <td>香港</td>\n",
       "      <td>24</td>\n",
       "      <td>694</td>\n",
       "      <td>914</td>\n",
       "      <td>216</td>\n",
       "      <td>4</td>\n",
       "    </tr>\n",
       "    <tr>\n",
       "      <td>c2</td>\n",
       "      <td>湖北</td>\n",
       "      <td>0</td>\n",
       "      <td>518</td>\n",
       "      <td>67803</td>\n",
       "      <td>64073</td>\n",
       "      <td>3212</td>\n",
       "    </tr>\n",
       "    <tr>\n",
       "      <td>c3</td>\n",
       "      <td>台湾</td>\n",
       "      <td>10</td>\n",
       "      <td>311</td>\n",
       "      <td>373</td>\n",
       "      <td>57</td>\n",
       "      <td>5</td>\n",
       "    </tr>\n",
       "    <tr>\n",
       "      <td>c4</td>\n",
       "      <td>上海</td>\n",
       "      <td>2</td>\n",
       "      <td>143</td>\n",
       "      <td>538</td>\n",
       "      <td>389</td>\n",
       "      <td>6</td>\n",
       "    </tr>\n",
       "    <tr>\n",
       "      <td>c5</td>\n",
       "      <td>北京</td>\n",
       "      <td>0</td>\n",
       "      <td>131</td>\n",
       "      <td>587</td>\n",
       "      <td>448</td>\n",
       "      <td>8</td>\n",
       "    </tr>\n",
       "  </tbody>\n",
       "</table>\n",
       "</div>"
      ],
      "text/plain": [
       "   疫情地区  新增   现有     累计     治愈    死亡\n",
       "c1   香港  24  694    914    216     4\n",
       "c2   湖北   0  518  67803  64073  3212\n",
       "c3   台湾  10  311    373     57     5\n",
       "c4   上海   2  143    538    389     6\n",
       "c5   北京   0  131    587    448     8"
      ]
     },
     "execution_count": 50,
     "metadata": {},
     "output_type": "execute_result"
    }
   ],
   "source": [
    "d1 = {'疫情地区':['香港','湖北','台湾','上海','北京'],\n",
    "    '新增':[24, 0, 10, 2, 0],\n",
    "    '现有':[694, 518, 311, 143, 131],\n",
    "    '累计':[914, 67803, 373, 538, 587],\n",
    "    '治愈':[216, 64073, 57, 389, 448],\n",
    "    '死亡':[4, 3212, 5, 6, 8]}\n",
    "d = DataFrame(d1,index=['c1','c2','c3','c4','c5'])\n",
    "d #字典是无序的，所以对象d中列之间的关系并不和字典给出的顺序相同"
   ]
  },
  {
   "cell_type": "code",
   "execution_count": 51,
   "metadata": {},
   "outputs": [
    {
     "data": {
      "text/plain": [
       "Index(['c1', 'c2', 'c3', 'c4', 'c5'], dtype='object')"
      ]
     },
     "execution_count": 51,
     "metadata": {},
     "output_type": "execute_result"
    }
   ],
   "source": [
    "d.index"
   ]
  },
  {
   "cell_type": "code",
   "execution_count": 52,
   "metadata": {},
   "outputs": [
    {
     "data": {
      "text/plain": [
       "Index(['疫情地区', '新增', '现有', '累计', '治愈', '死亡'], dtype='object')"
      ]
     },
     "execution_count": 52,
     "metadata": {},
     "output_type": "execute_result"
    }
   ],
   "source": [
    "d.columns"
   ]
  },
  {
   "cell_type": "code",
   "execution_count": 53,
   "metadata": {},
   "outputs": [
    {
     "data": {
      "text/plain": [
       "array([['香港', 24, 694, 914, 216, 4],\n",
       "       ['湖北', 0, 518, 67803, 64073, 3212],\n",
       "       ['台湾', 10, 311, 373, 57, 5],\n",
       "       ['上海', 2, 143, 538, 389, 6],\n",
       "       ['北京', 0, 131, 587, 448, 8]], dtype=object)"
      ]
     },
     "execution_count": 53,
     "metadata": {},
     "output_type": "execute_result"
    }
   ],
   "source": [
    "d.values"
   ]
  },
  {
   "cell_type": "code",
   "execution_count": 54,
   "metadata": {},
   "outputs": [
    {
     "data": {
      "text/plain": [
       "c1    694\n",
       "c2    518\n",
       "c3    311\n",
       "c4    143\n",
       "c5    131\n",
       "Name: 现有, dtype: int64"
      ]
     },
     "execution_count": 54,
     "metadata": {},
     "output_type": "execute_result"
    }
   ],
   "source": [
    "d['现有']  #每一列是Series对象"
   ]
  },
  {
   "cell_type": "code",
   "execution_count": 55,
   "metadata": {},
   "outputs": [
    {
     "data": {
      "text/plain": [
       "疫情地区     台湾\n",
       "新增       10\n",
       "现有      311\n",
       "累计      373\n",
       "治愈       57\n",
       "死亡        5\n",
       "Name: c3, dtype: object"
      ]
     },
     "execution_count": 55,
     "metadata": {},
     "output_type": "execute_result"
    }
   ],
   "source": [
    "d.iloc[2]   #依据行列值，生成对应行列的Series对象，切片"
   ]
  },
  {
   "cell_type": "code",
   "execution_count": 56,
   "metadata": {},
   "outputs": [
    {
     "data": {
      "text/plain": [
       "c1    694\n",
       "c2    518\n",
       "c3    311\n",
       "c4    143\n",
       "c5    131\n",
       "Name: 现有, dtype: int64"
      ]
     },
     "execution_count": 56,
     "metadata": {},
     "output_type": "execute_result"
    }
   ],
   "source": [
    "d.loc[:, '现有']   #依据行列名，生成对应行列的Series对象，切片"
   ]
  },
  {
   "cell_type": "code",
   "execution_count": 57,
   "metadata": {},
   "outputs": [
    {
     "data": {
      "text/plain": [
       "518"
      ]
     },
     "execution_count": 57,
     "metadata": {},
     "output_type": "execute_result"
    }
   ],
   "source": [
    "d['现有']['c2']"
   ]
  },
  {
   "cell_type": "markdown",
   "metadata": {},
   "source": [
    "### 3. 对Series和DataFrame的操作\n",
    "\n",
    "如何改变Series和DataFrame对象？\n",
    "\n",
    "#### 3.1 增加或重排：重新索引\n",
    "\n",
    "方法： .reindex()能够改变或重排Series和DataFrame索引"
   ]
  },
  {
   "cell_type": "code",
   "execution_count": 58,
   "metadata": {},
   "outputs": [
    {
     "data": {
      "text/html": [
       "<div>\n",
       "<style scoped>\n",
       "    .dataframe tbody tr th:only-of-type {\n",
       "        vertical-align: middle;\n",
       "    }\n",
       "\n",
       "    .dataframe tbody tr th {\n",
       "        vertical-align: top;\n",
       "    }\n",
       "\n",
       "    .dataframe thead th {\n",
       "        text-align: right;\n",
       "    }\n",
       "</style>\n",
       "<table border=\"1\" class=\"dataframe\">\n",
       "  <thead>\n",
       "    <tr style=\"text-align: right;\">\n",
       "      <th></th>\n",
       "      <th>疫情地区</th>\n",
       "      <th>新增</th>\n",
       "      <th>现有</th>\n",
       "      <th>累计</th>\n",
       "      <th>治愈</th>\n",
       "      <th>死亡</th>\n",
       "    </tr>\n",
       "  </thead>\n",
       "  <tbody>\n",
       "    <tr>\n",
       "      <td>c5</td>\n",
       "      <td>北京</td>\n",
       "      <td>0</td>\n",
       "      <td>131</td>\n",
       "      <td>587</td>\n",
       "      <td>448</td>\n",
       "      <td>8</td>\n",
       "    </tr>\n",
       "    <tr>\n",
       "      <td>c4</td>\n",
       "      <td>上海</td>\n",
       "      <td>2</td>\n",
       "      <td>143</td>\n",
       "      <td>538</td>\n",
       "      <td>389</td>\n",
       "      <td>6</td>\n",
       "    </tr>\n",
       "    <tr>\n",
       "      <td>c3</td>\n",
       "      <td>台湾</td>\n",
       "      <td>10</td>\n",
       "      <td>311</td>\n",
       "      <td>373</td>\n",
       "      <td>57</td>\n",
       "      <td>5</td>\n",
       "    </tr>\n",
       "    <tr>\n",
       "      <td>c2</td>\n",
       "      <td>湖北</td>\n",
       "      <td>0</td>\n",
       "      <td>518</td>\n",
       "      <td>67803</td>\n",
       "      <td>64073</td>\n",
       "      <td>3212</td>\n",
       "    </tr>\n",
       "    <tr>\n",
       "      <td>c1</td>\n",
       "      <td>香港</td>\n",
       "      <td>24</td>\n",
       "      <td>694</td>\n",
       "      <td>914</td>\n",
       "      <td>216</td>\n",
       "      <td>4</td>\n",
       "    </tr>\n",
       "  </tbody>\n",
       "</table>\n",
       "</div>"
      ],
      "text/plain": [
       "   疫情地区  新增   现有     累计     治愈    死亡\n",
       "c5   北京   0  131    587    448     8\n",
       "c4   上海   2  143    538    389     6\n",
       "c3   台湾  10  311    373     57     5\n",
       "c2   湖北   0  518  67803  64073  3212\n",
       "c1   香港  24  694    914    216     4"
      ]
     },
     "execution_count": 58,
     "metadata": {},
     "output_type": "execute_result"
    }
   ],
   "source": [
    "c = d.reindex(index=['c5','c4','c3','c2','c1'])\n",
    "c"
   ]
  },
  {
   "cell_type": "code",
   "execution_count": 59,
   "metadata": {},
   "outputs": [
    {
     "data": {
      "text/html": [
       "<div>\n",
       "<style scoped>\n",
       "    .dataframe tbody tr th:only-of-type {\n",
       "        vertical-align: middle;\n",
       "    }\n",
       "\n",
       "    .dataframe tbody tr th {\n",
       "        vertical-align: top;\n",
       "    }\n",
       "\n",
       "    .dataframe thead th {\n",
       "        text-align: right;\n",
       "    }\n",
       "</style>\n",
       "<table border=\"1\" class=\"dataframe\">\n",
       "  <thead>\n",
       "    <tr style=\"text-align: right;\">\n",
       "      <th></th>\n",
       "      <th>疫情地区</th>\n",
       "      <th>现有</th>\n",
       "      <th>死亡</th>\n",
       "    </tr>\n",
       "  </thead>\n",
       "  <tbody>\n",
       "    <tr>\n",
       "      <td>c5</td>\n",
       "      <td>北京</td>\n",
       "      <td>131</td>\n",
       "      <td>8</td>\n",
       "    </tr>\n",
       "    <tr>\n",
       "      <td>c4</td>\n",
       "      <td>上海</td>\n",
       "      <td>143</td>\n",
       "      <td>6</td>\n",
       "    </tr>\n",
       "    <tr>\n",
       "      <td>c3</td>\n",
       "      <td>台湾</td>\n",
       "      <td>311</td>\n",
       "      <td>5</td>\n",
       "    </tr>\n",
       "    <tr>\n",
       "      <td>c2</td>\n",
       "      <td>湖北</td>\n",
       "      <td>518</td>\n",
       "      <td>3212</td>\n",
       "    </tr>\n",
       "    <tr>\n",
       "      <td>c1</td>\n",
       "      <td>香港</td>\n",
       "      <td>694</td>\n",
       "      <td>4</td>\n",
       "    </tr>\n",
       "  </tbody>\n",
       "</table>\n",
       "</div>"
      ],
      "text/plain": [
       "   疫情地区   现有    死亡\n",
       "c5   北京  131     8\n",
       "c4   上海  143     6\n",
       "c3   台湾  311     5\n",
       "c2   湖北  518  3212\n",
       "c1   香港  694     4"
      ]
     },
     "execution_count": 59,
     "metadata": {},
     "output_type": "execute_result"
    }
   ],
   "source": [
    "c = c.reindex(columns=['疫情地区','现有','死亡'])\n",
    "c"
   ]
  },
  {
   "cell_type": "markdown",
   "metadata": {},
   "source": [
    ".reindex(index=None，columns=None,…)的参数\n",
    "\n",
    "参数|说明\n",
    ":--|:--\n",
    "index, columns|新的行列自定义索引\n",
    "fill_value|重新索引中，用于填充缺失位置的值\n",
    "method|填充方法, ffill当前值向前填充，bfill向后填充\n",
    "limit|最大填充量\n",
    "copy|默认True，生成新的对象，False时，新旧相等不复制"
   ]
  },
  {
   "cell_type": "code",
   "execution_count": 60,
   "metadata": {},
   "outputs": [
    {
     "data": {
      "text/html": [
       "<div>\n",
       "<style scoped>\n",
       "    .dataframe tbody tr th:only-of-type {\n",
       "        vertical-align: middle;\n",
       "    }\n",
       "\n",
       "    .dataframe tbody tr th {\n",
       "        vertical-align: top;\n",
       "    }\n",
       "\n",
       "    .dataframe thead th {\n",
       "        text-align: right;\n",
       "    }\n",
       "</style>\n",
       "<table border=\"1\" class=\"dataframe\">\n",
       "  <thead>\n",
       "    <tr style=\"text-align: right;\">\n",
       "      <th></th>\n",
       "      <th>疫情地区</th>\n",
       "      <th>新增</th>\n",
       "      <th>现有</th>\n",
       "      <th>累计</th>\n",
       "      <th>国别</th>\n",
       "      <th>治愈</th>\n",
       "      <th>死亡</th>\n",
       "    </tr>\n",
       "  </thead>\n",
       "  <tbody>\n",
       "    <tr>\n",
       "      <td>c1</td>\n",
       "      <td>香港</td>\n",
       "      <td>24</td>\n",
       "      <td>694</td>\n",
       "      <td>914</td>\n",
       "      <td>中国</td>\n",
       "      <td>216</td>\n",
       "      <td>4</td>\n",
       "    </tr>\n",
       "    <tr>\n",
       "      <td>c2</td>\n",
       "      <td>湖北</td>\n",
       "      <td>0</td>\n",
       "      <td>518</td>\n",
       "      <td>67803</td>\n",
       "      <td>中国</td>\n",
       "      <td>64073</td>\n",
       "      <td>3212</td>\n",
       "    </tr>\n",
       "    <tr>\n",
       "      <td>c3</td>\n",
       "      <td>台湾</td>\n",
       "      <td>10</td>\n",
       "      <td>311</td>\n",
       "      <td>373</td>\n",
       "      <td>中国</td>\n",
       "      <td>57</td>\n",
       "      <td>5</td>\n",
       "    </tr>\n",
       "    <tr>\n",
       "      <td>c4</td>\n",
       "      <td>上海</td>\n",
       "      <td>2</td>\n",
       "      <td>143</td>\n",
       "      <td>538</td>\n",
       "      <td>中国</td>\n",
       "      <td>389</td>\n",
       "      <td>6</td>\n",
       "    </tr>\n",
       "    <tr>\n",
       "      <td>c5</td>\n",
       "      <td>北京</td>\n",
       "      <td>0</td>\n",
       "      <td>131</td>\n",
       "      <td>587</td>\n",
       "      <td>中国</td>\n",
       "      <td>448</td>\n",
       "      <td>8</td>\n",
       "    </tr>\n",
       "  </tbody>\n",
       "</table>\n",
       "</div>"
      ],
      "text/plain": [
       "   疫情地区  新增   现有     累计  国别     治愈    死亡\n",
       "c1   香港  24  694    914  中国    216     4\n",
       "c2   湖北   0  518  67803  中国  64073  3212\n",
       "c3   台湾  10  311    373  中国     57     5\n",
       "c4   上海   2  143    538  中国    389     6\n",
       "c5   北京   0  131    587  中国    448     8"
      ]
     },
     "execution_count": 60,
     "metadata": {},
     "output_type": "execute_result"
    }
   ],
   "source": [
    "newc = d.columns.insert(4,'国别')  #行索引加一个\n",
    "newd = d.reindex(columns=newc,fill_value='中国')\n",
    "newd"
   ]
  },
  {
   "cell_type": "code",
   "execution_count": 61,
   "metadata": {},
   "outputs": [
    {
     "data": {
      "text/plain": [
       "Index(['c1', 'c2', 'c3', 'c4', 'c5'], dtype='object')"
      ]
     },
     "execution_count": 61,
     "metadata": {},
     "output_type": "execute_result"
    }
   ],
   "source": [
    "d.index"
   ]
  },
  {
   "cell_type": "code",
   "execution_count": 62,
   "metadata": {},
   "outputs": [
    {
     "data": {
      "text/plain": [
       "Index(['疫情地区', '新增', '现有', '累计', '治愈', '死亡'], dtype='object')"
      ]
     },
     "execution_count": 62,
     "metadata": {},
     "output_type": "execute_result"
    }
   ],
   "source": [
    "d.columns"
   ]
  },
  {
   "cell_type": "markdown",
   "metadata": {},
   "source": [
    "Series和DataFrame的索引是index类型\n",
    "\n",
    "Index对象是不可修改的类型\n",
    "\n",
    "索引类型的常用方法\n",
    "\n",
    "方法|说明\n",
    ":--|:--\n",
    ".append(idx)|连接另一个Index对象，产生新的Index对象\n",
    ".diff(idx)|计算差集，产生新的Index对象\n",
    ".intersection(idx)|计算交集\n",
    ".union(idx)|计算并集\n",
    ".delete(loc)|删除loc位置处的元素\n",
    ".insert(loc,e)|在loc位置增加一个元素e"
   ]
  },
  {
   "cell_type": "code",
   "execution_count": 63,
   "metadata": {},
   "outputs": [
    {
     "data": {
      "text/html": [
       "<div>\n",
       "<style scoped>\n",
       "    .dataframe tbody tr th:only-of-type {\n",
       "        vertical-align: middle;\n",
       "    }\n",
       "\n",
       "    .dataframe tbody tr th {\n",
       "        vertical-align: top;\n",
       "    }\n",
       "\n",
       "    .dataframe thead th {\n",
       "        text-align: right;\n",
       "    }\n",
       "</style>\n",
       "<table border=\"1\" class=\"dataframe\">\n",
       "  <thead>\n",
       "    <tr style=\"text-align: right;\">\n",
       "      <th></th>\n",
       "      <th>疫情地区</th>\n",
       "      <th>现有</th>\n",
       "      <th>死亡</th>\n",
       "    </tr>\n",
       "  </thead>\n",
       "  <tbody>\n",
       "    <tr>\n",
       "      <td>c5</td>\n",
       "      <td>北京</td>\n",
       "      <td>131</td>\n",
       "      <td>8</td>\n",
       "    </tr>\n",
       "    <tr>\n",
       "      <td>c4</td>\n",
       "      <td>上海</td>\n",
       "      <td>143</td>\n",
       "      <td>6</td>\n",
       "    </tr>\n",
       "    <tr>\n",
       "      <td>c3</td>\n",
       "      <td>台湾</td>\n",
       "      <td>311</td>\n",
       "      <td>5</td>\n",
       "    </tr>\n",
       "    <tr>\n",
       "      <td>c2</td>\n",
       "      <td>湖北</td>\n",
       "      <td>518</td>\n",
       "      <td>3212</td>\n",
       "    </tr>\n",
       "    <tr>\n",
       "      <td>c1</td>\n",
       "      <td>香港</td>\n",
       "      <td>694</td>\n",
       "      <td>4</td>\n",
       "    </tr>\n",
       "  </tbody>\n",
       "</table>\n",
       "</div>"
      ],
      "text/plain": [
       "   疫情地区   现有    死亡\n",
       "c5   北京  131     8\n",
       "c4   上海  143     6\n",
       "c3   台湾  311     5\n",
       "c2   湖北  518  3212\n",
       "c1   香港  694     4"
      ]
     },
     "execution_count": 63,
     "metadata": {},
     "output_type": "execute_result"
    }
   ],
   "source": [
    "c"
   ]
  },
  {
   "cell_type": "markdown",
   "metadata": {},
   "source": [
    "#### 3.2 删除指定索引对象\n",
    "\n",
    ".drop()能够删除Series和DataFrame指定行或列索引"
   ]
  },
  {
   "cell_type": "code",
   "execution_count": 64,
   "metadata": {},
   "outputs": [
    {
     "data": {
      "text/plain": [
       "a    1\n",
       "b    3\n",
       "c    5\n",
       "d    7\n",
       "dtype: int64"
      ]
     },
     "execution_count": 64,
     "metadata": {},
     "output_type": "execute_result"
    }
   ],
   "source": [
    "a = Series([1,3,5,7],index=['a','b','c','d'])\n",
    "a"
   ]
  },
  {
   "cell_type": "code",
   "execution_count": 65,
   "metadata": {},
   "outputs": [
    {
     "data": {
      "text/plain": [
       "a    1\n",
       "d    7\n",
       "dtype: int64"
      ]
     },
     "execution_count": 65,
     "metadata": {},
     "output_type": "execute_result"
    }
   ],
   "source": [
    "a.drop(['b','c'])"
   ]
  },
  {
   "cell_type": "code",
   "execution_count": 66,
   "metadata": {},
   "outputs": [
    {
     "data": {
      "text/html": [
       "<div>\n",
       "<style scoped>\n",
       "    .dataframe tbody tr th:only-of-type {\n",
       "        vertical-align: middle;\n",
       "    }\n",
       "\n",
       "    .dataframe tbody tr th {\n",
       "        vertical-align: top;\n",
       "    }\n",
       "\n",
       "    .dataframe thead th {\n",
       "        text-align: right;\n",
       "    }\n",
       "</style>\n",
       "<table border=\"1\" class=\"dataframe\">\n",
       "  <thead>\n",
       "    <tr style=\"text-align: right;\">\n",
       "      <th></th>\n",
       "      <th>疫情地区</th>\n",
       "      <th>新增</th>\n",
       "      <th>现有</th>\n",
       "      <th>累计</th>\n",
       "      <th>治愈</th>\n",
       "      <th>死亡</th>\n",
       "    </tr>\n",
       "  </thead>\n",
       "  <tbody>\n",
       "    <tr>\n",
       "      <td>c1</td>\n",
       "      <td>香港</td>\n",
       "      <td>24</td>\n",
       "      <td>694</td>\n",
       "      <td>914</td>\n",
       "      <td>216</td>\n",
       "      <td>4</td>\n",
       "    </tr>\n",
       "    <tr>\n",
       "      <td>c2</td>\n",
       "      <td>湖北</td>\n",
       "      <td>0</td>\n",
       "      <td>518</td>\n",
       "      <td>67803</td>\n",
       "      <td>64073</td>\n",
       "      <td>3212</td>\n",
       "    </tr>\n",
       "    <tr>\n",
       "      <td>c3</td>\n",
       "      <td>台湾</td>\n",
       "      <td>10</td>\n",
       "      <td>311</td>\n",
       "      <td>373</td>\n",
       "      <td>57</td>\n",
       "      <td>5</td>\n",
       "    </tr>\n",
       "    <tr>\n",
       "      <td>c4</td>\n",
       "      <td>上海</td>\n",
       "      <td>2</td>\n",
       "      <td>143</td>\n",
       "      <td>538</td>\n",
       "      <td>389</td>\n",
       "      <td>6</td>\n",
       "    </tr>\n",
       "    <tr>\n",
       "      <td>c5</td>\n",
       "      <td>北京</td>\n",
       "      <td>0</td>\n",
       "      <td>131</td>\n",
       "      <td>587</td>\n",
       "      <td>448</td>\n",
       "      <td>8</td>\n",
       "    </tr>\n",
       "  </tbody>\n",
       "</table>\n",
       "</div>"
      ],
      "text/plain": [
       "   疫情地区  新增   现有     累计     治愈    死亡\n",
       "c1   香港  24  694    914    216     4\n",
       "c2   湖北   0  518  67803  64073  3212\n",
       "c3   台湾  10  311    373     57     5\n",
       "c4   上海   2  143    538    389     6\n",
       "c5   北京   0  131    587    448     8"
      ]
     },
     "execution_count": 66,
     "metadata": {},
     "output_type": "execute_result"
    }
   ],
   "source": [
    "d"
   ]
  },
  {
   "cell_type": "code",
   "execution_count": 67,
   "metadata": {},
   "outputs": [
    {
     "data": {
      "text/html": [
       "<div>\n",
       "<style scoped>\n",
       "    .dataframe tbody tr th:only-of-type {\n",
       "        vertical-align: middle;\n",
       "    }\n",
       "\n",
       "    .dataframe tbody tr th {\n",
       "        vertical-align: top;\n",
       "    }\n",
       "\n",
       "    .dataframe thead th {\n",
       "        text-align: right;\n",
       "    }\n",
       "</style>\n",
       "<table border=\"1\" class=\"dataframe\">\n",
       "  <thead>\n",
       "    <tr style=\"text-align: right;\">\n",
       "      <th></th>\n",
       "      <th>疫情地区</th>\n",
       "      <th>新增</th>\n",
       "      <th>现有</th>\n",
       "      <th>累计</th>\n",
       "      <th>治愈</th>\n",
       "      <th>死亡</th>\n",
       "    </tr>\n",
       "  </thead>\n",
       "  <tbody>\n",
       "    <tr>\n",
       "      <td>c1</td>\n",
       "      <td>香港</td>\n",
       "      <td>24</td>\n",
       "      <td>694</td>\n",
       "      <td>914</td>\n",
       "      <td>216</td>\n",
       "      <td>4</td>\n",
       "    </tr>\n",
       "    <tr>\n",
       "      <td>c2</td>\n",
       "      <td>湖北</td>\n",
       "      <td>0</td>\n",
       "      <td>518</td>\n",
       "      <td>67803</td>\n",
       "      <td>64073</td>\n",
       "      <td>3212</td>\n",
       "    </tr>\n",
       "    <tr>\n",
       "      <td>c3</td>\n",
       "      <td>台湾</td>\n",
       "      <td>10</td>\n",
       "      <td>311</td>\n",
       "      <td>373</td>\n",
       "      <td>57</td>\n",
       "      <td>5</td>\n",
       "    </tr>\n",
       "    <tr>\n",
       "      <td>c4</td>\n",
       "      <td>上海</td>\n",
       "      <td>2</td>\n",
       "      <td>143</td>\n",
       "      <td>538</td>\n",
       "      <td>389</td>\n",
       "      <td>6</td>\n",
       "    </tr>\n",
       "  </tbody>\n",
       "</table>\n",
       "</div>"
      ],
      "text/plain": [
       "   疫情地区  新增   现有     累计     治愈    死亡\n",
       "c1   香港  24  694    914    216     4\n",
       "c2   湖北   0  518  67803  64073  3212\n",
       "c3   台湾  10  311    373     57     5\n",
       "c4   上海   2  143    538    389     6"
      ]
     },
     "execution_count": 67,
     "metadata": {},
     "output_type": "execute_result"
    }
   ],
   "source": [
    "d.drop('c5')"
   ]
  },
  {
   "cell_type": "code",
   "execution_count": 68,
   "metadata": {},
   "outputs": [
    {
     "data": {
      "text/html": [
       "<div>\n",
       "<style scoped>\n",
       "    .dataframe tbody tr th:only-of-type {\n",
       "        vertical-align: middle;\n",
       "    }\n",
       "\n",
       "    .dataframe tbody tr th {\n",
       "        vertical-align: top;\n",
       "    }\n",
       "\n",
       "    .dataframe thead th {\n",
       "        text-align: right;\n",
       "    }\n",
       "</style>\n",
       "<table border=\"1\" class=\"dataframe\">\n",
       "  <thead>\n",
       "    <tr style=\"text-align: right;\">\n",
       "      <th></th>\n",
       "      <th>疫情地区</th>\n",
       "      <th>新增</th>\n",
       "      <th>现有</th>\n",
       "      <th>治愈</th>\n",
       "      <th>死亡</th>\n",
       "    </tr>\n",
       "  </thead>\n",
       "  <tbody>\n",
       "    <tr>\n",
       "      <td>c1</td>\n",
       "      <td>香港</td>\n",
       "      <td>24</td>\n",
       "      <td>694</td>\n",
       "      <td>216</td>\n",
       "      <td>4</td>\n",
       "    </tr>\n",
       "    <tr>\n",
       "      <td>c2</td>\n",
       "      <td>湖北</td>\n",
       "      <td>0</td>\n",
       "      <td>518</td>\n",
       "      <td>64073</td>\n",
       "      <td>3212</td>\n",
       "    </tr>\n",
       "    <tr>\n",
       "      <td>c3</td>\n",
       "      <td>台湾</td>\n",
       "      <td>10</td>\n",
       "      <td>311</td>\n",
       "      <td>57</td>\n",
       "      <td>5</td>\n",
       "    </tr>\n",
       "    <tr>\n",
       "      <td>c4</td>\n",
       "      <td>上海</td>\n",
       "      <td>2</td>\n",
       "      <td>143</td>\n",
       "      <td>389</td>\n",
       "      <td>6</td>\n",
       "    </tr>\n",
       "    <tr>\n",
       "      <td>c5</td>\n",
       "      <td>北京</td>\n",
       "      <td>0</td>\n",
       "      <td>131</td>\n",
       "      <td>448</td>\n",
       "      <td>8</td>\n",
       "    </tr>\n",
       "  </tbody>\n",
       "</table>\n",
       "</div>"
      ],
      "text/plain": [
       "   疫情地区  新增   现有     治愈    死亡\n",
       "c1   香港  24  694    216     4\n",
       "c2   湖北   0  518  64073  3212\n",
       "c3   台湾  10  311     57     5\n",
       "c4   上海   2  143    389     6\n",
       "c5   北京   0  131    448     8"
      ]
     },
     "execution_count": 68,
     "metadata": {},
     "output_type": "execute_result"
    }
   ],
   "source": [
    "d.drop('累计',axis=1)  #如果没有axis=1，则默认操作0轴上的元素\n"
   ]
  },
  {
   "cell_type": "markdown",
   "metadata": {},
   "source": [
    "## 第七部分 利用Pandas库进行数据分析\n",
    "\n",
    "### 1. 基础知识\n",
    "\n",
    "#### 1.1 数据分析流程与Pandas \n",
    "\n",
    "数据分析从流程上看，包括以下部分：\n",
    "    1. 分析设计\n",
    "    2. 数据收集\n",
    "    3. 数据清洗\n",
    "    4. 数据整理\n",
    "    5. 描述统计\n",
    "    6. 建模分析\n",
    "    7. 可视化\n",
    "    8. 形成结论\n",
    "\n",
    "Pandas可以用于从数据清洗到建模分析的许多环节。\n",
    "\n",
    "#### 1.2 对数据分析的理解\n",
    "\n",
    "数据分析的过程是降维的过程。如一组数据：\n",
    "\n",
    "a = {3.141, 3.1398, 3.1404, 3.1401, 3.1349, 3.1376}\n",
    "\n",
    "一组数据表达一个或多个含义\n",
    "\n",
    "统计分析的过程，也可以理解为“摘要”的过程，即从数据种抽象出一些特征，这个过程是有损的。\n",
    "\n",
    "通过统计分析我们能获得数据的：\n",
    "\n",
    "* 基本统计（含排序）\n",
    "* 分布/累计统计\n",
    "* 数据特征(相关性，周期性等)\n",
    "* 数据挖掘（形成知识）\n",
    "\n",
    "在这个过程中，我们经常使用的方法包括数据运算、排序、统计描述、相关、回归等。"
   ]
  },
  {
   "cell_type": "code",
   "execution_count": 69,
   "metadata": {},
   "outputs": [],
   "source": [
    "import numpy as np\n",
    "import pandas as pd"
   ]
  },
  {
   "cell_type": "markdown",
   "metadata": {},
   "source": [
    "### 2. 数据运算\n",
    "\n",
    "包括算术运算和比较运算两大类\n",
    "\n",
    "#### 2.1 算术运算\n",
    "\n",
    "算术运算根据行列索引，补齐后运算，运算默认产生浮点数。\n",
    "\n",
    "补齐时缺项填充NaN（空值）\n",
    "\n",
    "二维和一维、一维和零维间为广播运算\n",
    "\n",
    "采用+ - * / 符号进行的二元运算产生新的对象"
   ]
  },
  {
   "cell_type": "code",
   "execution_count": 71,
   "metadata": {},
   "outputs": [
    {
     "data": {
      "text/html": [
       "<div>\n",
       "<style scoped>\n",
       "    .dataframe tbody tr th:only-of-type {\n",
       "        vertical-align: middle;\n",
       "    }\n",
       "\n",
       "    .dataframe tbody tr th {\n",
       "        vertical-align: top;\n",
       "    }\n",
       "\n",
       "    .dataframe thead th {\n",
       "        text-align: right;\n",
       "    }\n",
       "</style>\n",
       "<table border=\"1\" class=\"dataframe\">\n",
       "  <thead>\n",
       "    <tr style=\"text-align: right;\">\n",
       "      <th></th>\n",
       "      <th>0</th>\n",
       "      <th>1</th>\n",
       "      <th>2</th>\n",
       "      <th>3</th>\n",
       "    </tr>\n",
       "  </thead>\n",
       "  <tbody>\n",
       "    <tr>\n",
       "      <td>0</td>\n",
       "      <td>0</td>\n",
       "      <td>1</td>\n",
       "      <td>2</td>\n",
       "      <td>3</td>\n",
       "    </tr>\n",
       "    <tr>\n",
       "      <td>1</td>\n",
       "      <td>4</td>\n",
       "      <td>5</td>\n",
       "      <td>6</td>\n",
       "      <td>7</td>\n",
       "    </tr>\n",
       "    <tr>\n",
       "      <td>2</td>\n",
       "      <td>8</td>\n",
       "      <td>9</td>\n",
       "      <td>10</td>\n",
       "      <td>11</td>\n",
       "    </tr>\n",
       "  </tbody>\n",
       "</table>\n",
       "</div>"
      ],
      "text/plain": [
       "   0  1   2   3\n",
       "0  0  1   2   3\n",
       "1  4  5   6   7\n",
       "2  8  9  10  11"
      ]
     },
     "execution_count": 71,
     "metadata": {},
     "output_type": "execute_result"
    }
   ],
   "source": [
    "a = DataFrame(np.arange(12).reshape(3,4))\n",
    "a"
   ]
  },
  {
   "cell_type": "code",
   "execution_count": 72,
   "metadata": {},
   "outputs": [
    {
     "data": {
      "text/html": [
       "<div>\n",
       "<style scoped>\n",
       "    .dataframe tbody tr th:only-of-type {\n",
       "        vertical-align: middle;\n",
       "    }\n",
       "\n",
       "    .dataframe tbody tr th {\n",
       "        vertical-align: top;\n",
       "    }\n",
       "\n",
       "    .dataframe thead th {\n",
       "        text-align: right;\n",
       "    }\n",
       "</style>\n",
       "<table border=\"1\" class=\"dataframe\">\n",
       "  <thead>\n",
       "    <tr style=\"text-align: right;\">\n",
       "      <th></th>\n",
       "      <th>0</th>\n",
       "      <th>1</th>\n",
       "      <th>2</th>\n",
       "      <th>3</th>\n",
       "      <th>4</th>\n",
       "    </tr>\n",
       "  </thead>\n",
       "  <tbody>\n",
       "    <tr>\n",
       "      <td>0</td>\n",
       "      <td>0</td>\n",
       "      <td>1</td>\n",
       "      <td>2</td>\n",
       "      <td>3</td>\n",
       "      <td>4</td>\n",
       "    </tr>\n",
       "    <tr>\n",
       "      <td>1</td>\n",
       "      <td>5</td>\n",
       "      <td>6</td>\n",
       "      <td>7</td>\n",
       "      <td>8</td>\n",
       "      <td>9</td>\n",
       "    </tr>\n",
       "    <tr>\n",
       "      <td>2</td>\n",
       "      <td>10</td>\n",
       "      <td>11</td>\n",
       "      <td>12</td>\n",
       "      <td>13</td>\n",
       "      <td>14</td>\n",
       "    </tr>\n",
       "    <tr>\n",
       "      <td>3</td>\n",
       "      <td>15</td>\n",
       "      <td>16</td>\n",
       "      <td>17</td>\n",
       "      <td>18</td>\n",
       "      <td>19</td>\n",
       "    </tr>\n",
       "  </tbody>\n",
       "</table>\n",
       "</div>"
      ],
      "text/plain": [
       "    0   1   2   3   4\n",
       "0   0   1   2   3   4\n",
       "1   5   6   7   8   9\n",
       "2  10  11  12  13  14\n",
       "3  15  16  17  18  19"
      ]
     },
     "execution_count": 72,
     "metadata": {},
     "output_type": "execute_result"
    }
   ],
   "source": [
    "b = DataFrame(np.arange(20).reshape(4,5))\n",
    "b"
   ]
  },
  {
   "cell_type": "code",
   "execution_count": null,
   "metadata": {},
   "outputs": [],
   "source": [
    "a + b   #一个矩阵缺项就补为NaN"
   ]
  },
  {
   "cell_type": "code",
   "execution_count": null,
   "metadata": {},
   "outputs": [],
   "source": [
    "a * b"
   ]
  },
  {
   "cell_type": "markdown",
   "metadata": {},
   "source": [
    "数据类型的算术运算的方法\n",
    "\n",
    "方法|说明\n",
    ":--|:--\n",
    ".add(d, \\*\\*argws)|类型间加法运算，可选参数\n",
    ".sub(d, \\*\\*argws)|类型间减法运算，可选参数\n",
    ".mul(d, \\*\\*argws)|类型间乘法运算，可选参数\n",
    ".div(d, \\*\\*argws)|类型间除法运算，可选参数"
   ]
  },
  {
   "cell_type": "code",
   "execution_count": null,
   "metadata": {},
   "outputs": [],
   "source": [
    "a = DataFrame(np.arange(12).reshape(3,4))\n",
    "a"
   ]
  },
  {
   "cell_type": "code",
   "execution_count": null,
   "metadata": {},
   "outputs": [],
   "source": [
    "b = DataFrame(np.arange(20).reshape(4,5))\n",
    "b"
   ]
  },
  {
   "cell_type": "code",
   "execution_count": null,
   "metadata": {},
   "outputs": [],
   "source": [
    "b.add(a,fill_value=100)  # fill_value参数替代NaN，替代后参与运算，也就是缺值用100补"
   ]
  },
  {
   "cell_type": "code",
   "execution_count": null,
   "metadata": {},
   "outputs": [],
   "source": [
    "a.mul(b,fill_value=0)  #相乘"
   ]
  },
  {
   "cell_type": "code",
   "execution_count": null,
   "metadata": {},
   "outputs": [],
   "source": [
    "b= DataFrame(np.arange(20).reshape(4,5))\n",
    "b"
   ]
  },
  {
   "cell_type": "code",
   "execution_count": null,
   "metadata": {},
   "outputs": [],
   "source": [
    "c = Series(np.arange(4))\n",
    "c"
   ]
  },
  {
   "cell_type": "code",
   "execution_count": null,
   "metadata": {},
   "outputs": [],
   "source": [
    "c - 10  #广播，不同维度间的运算会作用到高维的每一个元素上\n"
   ]
  },
  {
   "cell_type": "code",
   "execution_count": null,
   "metadata": {},
   "outputs": [],
   "source": [
    "b - c   #同理，也是广播    b中每一行和c相减"
   ]
  },
  {
   "cell_type": "markdown",
   "metadata": {},
   "source": [
    "不同维度间为广播运算，一维Series默认在轴1参与运算\n",
    "\n",
    "要在零轴参与运算，需指定axis=0"
   ]
  },
  {
   "cell_type": "code",
   "execution_count": null,
   "metadata": {},
   "outputs": [],
   "source": [
    "b.sub(c,axis=0)"
   ]
  },
  {
   "cell_type": "markdown",
   "metadata": {},
   "source": [
    "#### 2.2 比较运算\n",
    "\n",
    "比较运算只能比较相同索引的元素，不进行补齐。 (只能同维度运算，尺寸一致)\n",
    "\n",
    "二维和一维、一维和零维间为广播运算。默认在1轴。\n",
    "\n",
    "采用> < >= <= == != 等符号进行的二元运算产生布尔对象。"
   ]
  },
  {
   "cell_type": "code",
   "execution_count": null,
   "metadata": {},
   "outputs": [],
   "source": [
    "a = DataFrame(np.arange(12).reshape(3,4)) \n",
    "a"
   ]
  },
  {
   "cell_type": "code",
   "execution_count": null,
   "metadata": {},
   "outputs": [],
   "source": [
    "d = DataFrame(np.arange(12,0,-1).reshape(3,4))\n",
    "d"
   ]
  },
  {
   "cell_type": "code",
   "execution_count": null,
   "metadata": {},
   "outputs": [],
   "source": [
    "a > d  #必须同维度，不进行填充"
   ]
  },
  {
   "cell_type": "code",
   "execution_count": null,
   "metadata": {},
   "outputs": [],
   "source": [
    "a == d"
   ]
  },
  {
   "cell_type": "code",
   "execution_count": null,
   "metadata": {},
   "outputs": [],
   "source": [
    "a = DataFrame(np.arange(12).reshape(3,4)) \n",
    "a"
   ]
  },
  {
   "cell_type": "code",
   "execution_count": null,
   "metadata": {},
   "outputs": [],
   "source": [
    "c = Series(np.arange(4))\n",
    "c"
   ]
  },
  {
   "cell_type": "code",
   "execution_count": null,
   "metadata": {},
   "outputs": [],
   "source": [
    "a > c #不同维度，广播运算，默认在1轴"
   ]
  },
  {
   "cell_type": "code",
   "execution_count": null,
   "metadata": {},
   "outputs": [],
   "source": [
    "c > 0"
   ]
  },
  {
   "cell_type": "markdown",
   "metadata": {},
   "source": [
    "### 3. 数据排序\n",
    "\n",
    "#### 3.1 Pandas库的数据排序\n",
    "\n",
    "- **按索引排序**\n",
    "\n",
    "DataFrame.sort_index(axis=0,ascending=True) \n",
    "\n",
    "在指定轴上根据索引进行排序，默认升序,ascending指递增排序。"
   ]
  },
  {
   "cell_type": "code",
   "execution_count": null,
   "metadata": {},
   "outputs": [],
   "source": [
    "b = DataFrame(np.arange(20).reshape(4,5),index=['c','a','d','b'])\n",
    "b"
   ]
  },
  {
   "cell_type": "code",
   "execution_count": null,
   "metadata": {},
   "outputs": [],
   "source": [
    "c = b.sort_index()  #默认在0轴进行操作\n",
    "c"
   ]
  },
  {
   "cell_type": "code",
   "execution_count": null,
   "metadata": {},
   "outputs": [],
   "source": [
    "c = c.sort_index(axis=1 ,ascending=False)\n",
    "c"
   ]
  },
  {
   "cell_type": "markdown",
   "metadata": {},
   "source": [
    "- **按值排序**\n",
    "\n",
    ".sort_values()方法在指定轴上根据数值进行排序，默认升序\n",
    "\n",
    "DataFrame.sort_values(by,axis=0,ascending=True)\n",
    "\n",
    "by: axis轴上的某个索引或索引列表\n",
    "\n",
    "Series.sort_values(axis=0,ascending=True)"
   ]
  },
  {
   "cell_type": "code",
   "execution_count": null,
   "metadata": {},
   "outputs": [],
   "source": [
    "c = b.sort_values(2,ascending=False) #按第二列数据降序排列\n",
    "c"
   ]
  },
  {
   "cell_type": "code",
   "execution_count": null,
   "metadata": {},
   "outputs": [],
   "source": [
    "c = c.sort_values('a',axis=1,ascending=False)\n",
    "c"
   ]
  },
  {
   "cell_type": "code",
   "execution_count": null,
   "metadata": {},
   "outputs": [],
   "source": [
    "a = DataFrame(np.arange(12).reshape(3, 4), index=['a', 'b', 'c'])\n",
    "a"
   ]
  },
  {
   "cell_type": "code",
   "execution_count": null,
   "metadata": {},
   "outputs": [],
   "source": [
    "b = DataFrame(np.arange(20).reshape(4, 5), index=['d', 'c', 'b', 'a'])\n",
    "b"
   ]
  },
  {
   "cell_type": "code",
   "execution_count": null,
   "metadata": {},
   "outputs": [],
   "source": [
    "c = a + b\n",
    "c"
   ]
  },
  {
   "cell_type": "code",
   "execution_count": null,
   "metadata": {},
   "outputs": [],
   "source": [
    "c.sort_values(axis=0, by=2, ascending=False) #NaN统一放到排序的末尾"
   ]
  },
  {
   "cell_type": "code",
   "execution_count": null,
   "metadata": {},
   "outputs": [],
   "source": [
    "c.sort_values(axis=0, by=2, ascending=True) #NaN统一放到排序的末尾"
   ]
  },
  {
   "cell_type": "markdown",
   "metadata": {},
   "source": [
    "### 4. 基本统计分析\n",
    "\n",
    "#### 4.1 基本的统计分析函数\n",
    "\n",
    "适用于Series和DataFrame类型\n",
    "\n",
    "方法|说明\n",
    ":--|:--\n",
    ".sum()|计算数据的总和，按0轴计算，下同\n",
    ".count()|非NaN值的数量\n",
    ".mean() .median()|计算数据的算术平均值、算术中位数\n",
    ".var() .std()|计算数据的方差、标准差\n",
    ".min() .max()|计算数据的最小值、最大值\n",
    ".describe()|针对0轴（各列）的统计汇总\n",
    "\n",
    "适用于Series类型\n",
    "\n",
    "方法|说明\n",
    ":--|:--\n",
    ".argmin() .argmax()|计算数据最大值、最小值所在位置的索引位置（自动索引）\n",
    ".idxmin() .idxmax()|计算数据最大值、最小值所在位置的索引（自定义索引）\n"
   ]
  },
  {
   "cell_type": "code",
   "execution_count": null,
   "metadata": {},
   "outputs": [],
   "source": [
    "a = Series([9,8,7,6],index=['a','b','c','d'])\n",
    "a"
   ]
  },
  {
   "cell_type": "code",
   "execution_count": null,
   "metadata": {},
   "outputs": [],
   "source": [
    "a.describe()"
   ]
  },
  {
   "cell_type": "code",
   "execution_count": null,
   "metadata": {},
   "outputs": [],
   "source": [
    "type(a.describe())"
   ]
  },
  {
   "cell_type": "code",
   "execution_count": null,
   "metadata": {},
   "outputs": [],
   "source": [
    "a.describe()['count']"
   ]
  },
  {
   "cell_type": "code",
   "execution_count": null,
   "metadata": {},
   "outputs": [],
   "source": [
    "a.describe()['max']"
   ]
  },
  {
   "cell_type": "code",
   "execution_count": null,
   "metadata": {},
   "outputs": [],
   "source": [
    "b = DataFrame(np.arange(20).reshape(4,5),index=['c','a','d','b'])\n",
    "b.describe()"
   ]
  },
  {
   "cell_type": "code",
   "execution_count": null,
   "metadata": {},
   "outputs": [],
   "source": [
    "type(b.describe())"
   ]
  },
  {
   "cell_type": "code",
   "execution_count": null,
   "metadata": {},
   "outputs": [],
   "source": [
    "b.describe().ix['max']  #  以Series对象返回"
   ]
  },
  {
   "cell_type": "code",
   "execution_count": null,
   "metadata": {},
   "outputs": [],
   "source": [
    "b.describe()[2]"
   ]
  },
  {
   "cell_type": "markdown",
   "metadata": {},
   "source": [
    "#### 4.2 累计统计分析\n",
    "\n",
    "适用于Series 和 DataFrame类型\n",
    "\n",
    "方法|说明\n",
    ":--|:--\n",
    ".cumsum()|依次给出前1、2、…、n个数的和\n",
    ".cumprod()|依次给出前1、2、…、n个数的积\n",
    ".cummax()|依次给出前1、2、…、n个数的最大值\n",
    ".cummin()|依次给出前1、2、…、n个数的最小值"
   ]
  },
  {
   "cell_type": "code",
   "execution_count": null,
   "metadata": {},
   "outputs": [],
   "source": [
    "b = DataFrame(np.arange(20).reshape(4,5),index=['c','a','d','b'])\n",
    "b"
   ]
  },
  {
   "cell_type": "code",
   "execution_count": null,
   "metadata": {},
   "outputs": [],
   "source": [
    "b.cumsum()  #以列为单位，计算每个元素前面的累加和"
   ]
  },
  {
   "cell_type": "code",
   "execution_count": null,
   "metadata": {},
   "outputs": [],
   "source": [
    "b.cumprod()  #乘积"
   ]
  },
  {
   "cell_type": "code",
   "execution_count": null,
   "metadata": {},
   "outputs": [],
   "source": [
    "b.cummin()"
   ]
  },
  {
   "cell_type": "code",
   "execution_count": null,
   "metadata": {},
   "outputs": [],
   "source": [
    "b.cummax()"
   ]
  },
  {
   "cell_type": "markdown",
   "metadata": {},
   "source": [
    "适用于Series和DataFrame类型。\n",
    "\n",
    "滚动计算（窗口计算），依次计算w相邻的元素的统计值\n",
    "\n",
    "方法|说明\n",
    ":--|:--\n",
    ".rolling(w).sum()|依次计算相邻w个元素的和\n",
    ".rolling(w).mean()|依次计算相邻w个元素的算术平均值\n",
    ".rolling(w).var()|依次计算相邻w个元素的方差\n",
    ".rolling(w).std()|依次计算相邻w个元素的标准差\n",
    ".rolling(w).min() .max()|依次计算相邻w个元素的最小值和最大值"
   ]
  },
  {
   "cell_type": "code",
   "execution_count": null,
   "metadata": {},
   "outputs": [],
   "source": [
    "b = DataFrame(np.arange(20).reshape(4,5), index=['d', 'c', 'b', 'a'])\n",
    "b"
   ]
  },
  {
   "cell_type": "code",
   "execution_count": null,
   "metadata": {},
   "outputs": [],
   "source": [
    "b.rolling(2).sum()# 在纵向上以两个元素为单位，做相关的求和运算。"
   ]
  },
  {
   "cell_type": "code",
   "execution_count": null,
   "metadata": {},
   "outputs": [],
   "source": [
    "b.rolling(3).sum()"
   ]
  },
  {
   "cell_type": "markdown",
   "metadata": {},
   "source": [
    "#### 4.3 数据的相关分析\n",
    "\n",
    "相关分析： 两个事物，表示为X,Y，如何判断他们之间存在相关性？\n",
    "\n",
    "相关性\n",
    "X增大，Y增大，两个变量正相关。\n",
    "X增大，Y减小，两个变量负相关。\n",
    "X增大，Y无视，两个变量不相关。\n",
    "\n",
    "如何度量俩个变量的相关性?\n",
    "\n",
    "协方差方法：\n",
    "\n",
    "$$cov(X, Y) = \\frac{\\sum_{i=1}^{n}{(X_i - \\overline{X})(Y_i - \\overline{Y})}}{n-i}$$\n",
    "\n",
    "协方差>0，X和Y正相关。\n",
    "协方差<0，X和Y负相关。\n",
    "协方差=0，X和Y独立无关。\n",
    "\n",
    "Peason相关系数\n",
    "\n",
    "$$r = \\frac{\\sum_{i=1}^{n}{(x_i - \\overline{x})(y_i - \\overline{y})}}{\\sqrt{\\sum_{i=1}^{n}{(x_i-\\overline{x})^2}}\\sqrt{\\sum_{i=1}^{n}{(y_i-\\overline{y})^2}}}$$\n",
    "\n",
    "r的取值范围\\[-1,1\\].\n",
    "|r|：\n",
    "0.8-1.0 极强相关\n",
    "0.6-0.8 强相关\n",
    "0.4-0.6 中等程度相关\n",
    "0.2-0.4 弱相关\n",
    "0-0.2 极弱相关或不相关\n",
    "\n",
    "相关分析函数\n",
    "\n",
    "方法|说明\n",
    ":--|:--\n",
    ".cov()|计算协方差矩阵\n",
    ".corr()|计算相关系数矩阵, Pearson、Spearman、Kendall等系数\n",
    "\n",
    "【例】世界各国总储蓄与GDP是否相关？\n",
    "\n",
    "总储蓄指可支配总收入用于最终消费后的余额。国民总储蓄指各部门的总储蓄之和。总储蓄和居民储蓄的概念不同，总储蓄是宏观的概念，是可支配收入减去最终消费后，用于一个国家或地区投资资金的主要来源。\n",
    "\n",
    "GDP是国内生产总值, Gross Domestic Product的缩写。它指一个国家或地区在一定时期内生产活动(最终产品和服务)的总量,是衡量经济规模和发展水平最重要的方法之一。"
   ]
  },
  {
   "cell_type": "code",
   "execution_count": null,
   "metadata": {},
   "outputs": [],
   "source": [
    "saving = pd.Series([6.29, 3.82, 1.39, 1.16, 0.84] ,index=['中国','美国','日本','德国','印度'])\n",
    "\n",
    "gdp = pd.Series([13.61, 20.54, 4.97, 3.95, 2.72],index=['中国','美国','日本','德国','印度'])\n",
    "\n",
    "saving.corr(gdp)"
   ]
  },
  {
   "cell_type": "code",
   "execution_count": null,
   "metadata": {},
   "outputs": [],
   "source": []
  },
  {
   "cell_type": "code",
   "execution_count": null,
   "metadata": {},
   "outputs": [],
   "source": []
  },
  {
   "cell_type": "code",
   "execution_count": null,
   "metadata": {},
   "outputs": [],
   "source": []
  },
  {
   "cell_type": "code",
   "execution_count": null,
   "metadata": {},
   "outputs": [],
   "source": []
  },
  {
   "cell_type": "code",
   "execution_count": null,
   "metadata": {},
   "outputs": [],
   "source": []
  },
  {
   "cell_type": "code",
   "execution_count": null,
   "metadata": {},
   "outputs": [],
   "source": []
  },
  {
   "cell_type": "code",
   "execution_count": null,
   "metadata": {},
   "outputs": [],
   "source": []
  },
  {
   "cell_type": "code",
   "execution_count": null,
   "metadata": {},
   "outputs": [],
   "source": []
  },
  {
   "cell_type": "code",
   "execution_count": null,
   "metadata": {},
   "outputs": [],
   "source": []
  },
  {
   "cell_type": "code",
   "execution_count": null,
   "metadata": {},
   "outputs": [],
   "source": []
  },
  {
   "cell_type": "code",
   "execution_count": null,
   "metadata": {},
   "outputs": [],
   "source": []
  },
  {
   "cell_type": "code",
   "execution_count": null,
   "metadata": {},
   "outputs": [],
   "source": []
  },
  {
   "cell_type": "code",
   "execution_count": null,
   "metadata": {},
   "outputs": [],
   "source": []
  },
  {
   "cell_type": "code",
   "execution_count": null,
   "metadata": {},
   "outputs": [],
   "source": []
  },
  {
   "cell_type": "code",
   "execution_count": null,
   "metadata": {},
   "outputs": [],
   "source": []
  },
  {
   "cell_type": "code",
   "execution_count": null,
   "metadata": {},
   "outputs": [],
   "source": []
  },
  {
   "cell_type": "code",
   "execution_count": null,
   "metadata": {},
   "outputs": [],
   "source": []
  },
  {
   "cell_type": "code",
   "execution_count": null,
   "metadata": {},
   "outputs": [],
   "source": []
  },
  {
   "cell_type": "code",
   "execution_count": null,
   "metadata": {},
   "outputs": [],
   "source": []
  }
 ],
 "metadata": {
  "kernelspec": {
   "display_name": "Python 3.7.4 64-bit ('base': conda)",
   "language": "python",
   "name": "python37464bitbaseconda21d6255dfc6f47b9a722fafee858c8c9"
  },
  "language_info": {
   "codemirror_mode": {
    "name": "ipython",
    "version": 3
   },
   "file_extension": ".py",
   "mimetype": "text/x-python",
   "name": "python",
   "nbconvert_exporter": "python",
   "pygments_lexer": "ipython3",
   "version": "3.7.4"
  }
 },
 "nbformat": 4,
 "nbformat_minor": 2
}
